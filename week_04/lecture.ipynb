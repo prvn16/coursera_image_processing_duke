{
 "cells": [
  {
   "cell_type": "markdown",
   "metadata": {},
   "source": [
    "## Gaussian Noise\n",
    "\n",
    "$$\n",
    "p(z) = \\frac{1}{\\sqrt{2 \\pi\\sigma^2}} exp \\left [-\\frac{(z - \\bar z)^2}{2 \\sigma^2} \\right ]\n",
    "$$"
   ]
  },
  {
   "cell_type": "markdown",
   "metadata": {},
   "source": [
    "## Rayleigh Noise\n",
    "\n",
    "$$\n",
    "p(z) =\n",
    "\\left\\{ \\begin{array}{rcl}\n",
    "\\frac{2}{b}(z-a)\\exp \\left [-\\frac{(z-a)^2}{b} \\right] & \\mbox{for} & z \\ge a \\\\\n",
    "0 & \\mbox{for} & z < a \\\\\n",
    "\\end{array}\\right.\n",
    "$$\n",
    "\n",
    "$$\n",
    "\\begin{align}\n",
    "\\bar z &= a + \\sqrt{\\frac{\\pi b}{4}} \\\\\n",
    "\\sigma^2 &= \\frac{b(4-\\pi)}{4} \\\\\n",
    "\\end{align}\n",
    "$$"
   ]
  },
  {
   "cell_type": "markdown",
   "metadata": {},
   "source": [
    "## Exponential Noise\n",
    "\n",
    "$$\n",
    "p(z) =\n",
    "\\left\\{ \\begin{array}{rcl}\n",
    "a \\exp \\left [-az \\right] & \\mbox{for} & z \\ge 0 \\\\\n",
    "0 & \\mbox{for} & z < 0 \\\\\n",
    "\\end{array}\\right.\n",
    "$$\n",
    "\n",
    "$$\n",
    "\\begin{align}\n",
    "\\bar z &= \\frac{1}{a} \\\\\n",
    "\\sigma^2 &= \\frac{1}{a^2} \\\\\n",
    "\\end{align}\n",
    "$$"
   ]
  },
  {
   "cell_type": "markdown",
   "metadata": {},
   "source": [
    "## Uniform Noise\n",
    "\n",
    "$$\n",
    "p(z) =\n",
    "\\left\\{ \\begin{array}{rcl}\n",
    "\\frac{1}{b-a} & \\mbox{for} & a \\le z \\le b \\\\\n",
    "0 & \\mbox{for} & \\mbox{otherwise} \\\\\n",
    "\\end{array}\\right.\n",
    "$$\n",
    "\n",
    "$$\n",
    "\\begin{align}\n",
    "\\bar z &= \\frac{a+b}{2} \\\\\n",
    "\\sigma^2 &= \\frac{1}{12} (b-a)^2 \\\\\n",
    "\\end{align}\n",
    "$$"
   ]
  },
  {
   "cell_type": "code",
   "execution_count": null,
   "metadata": {
    "collapsed": true
   },
   "outputs": [],
   "source": []
  }
 ],
 "metadata": {
  "kernelspec": {
   "display_name": "Python 2",
   "language": "python",
   "name": "python2"
  },
  "language_info": {
   "codemirror_mode": {
    "name": "ipython",
    "version": 2
   },
   "file_extension": ".py",
   "mimetype": "text/x-python",
   "name": "python",
   "nbconvert_exporter": "python",
   "pygments_lexer": "ipython2",
   "version": "2.7.11"
  }
 },
 "nbformat": 4,
 "nbformat_minor": 0
}
