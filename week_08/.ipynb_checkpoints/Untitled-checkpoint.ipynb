{
 "cells": [
  {
   "cell_type": "code",
   "execution_count": 34,
   "metadata": {
    "collapsed": false
   },
   "outputs": [
    {
     "name": "stdout",
     "output_type": "stream",
     "text": [
      "[[1 2]\n",
      " [3 4]]\n",
      "2.5\n",
      "[ 2.  3.]\n",
      "[ 1.5  3.5]\n"
     ]
    }
   ],
   "source": [
    "from __future__ import print_function\n",
    "import numpy as np\n",
    "a = np.array([[1, 2], [3, 4]])\n",
    "print(a)\n",
    "print(np.mean(a))\n",
    "print(np.mean(a, axis=0))\n",
    "print(np.mean(a, axis=1))\n"
   ]
  },
  {
   "cell_type": "code",
   "execution_count": 35,
   "metadata": {
    "collapsed": false
   },
   "outputs": [
    {
     "name": "stdout",
     "output_type": "stream",
     "text": [
      "a\n",
      " [[  0   1   4]\n",
      " [  9  16  25]\n",
      " [ 36  49  64]\n",
      " [ 81 100 121]] \n",
      "\n",
      "np.mean(a,axis=0)\n",
      " [ 31.5  41.5  53.5] \n",
      "\n",
      "(a.shape[0],1)\n",
      " (4, 1) \n",
      "\n",
      "b = a - np.tile(np.mean(a,axis=0),(a.shape[0],1))\n",
      " [[-31.5 -40.5 -49.5]\n",
      " [-22.5 -25.5 -28.5]\n",
      " [  4.5   7.5  10.5]\n",
      " [ 49.5  58.5  67.5]] \n",
      "\n",
      "(b * b).sum(axis=0)\n",
      " [ 3969.  5769.  7929.] \n",
      "\n",
      "np.sqrt((b * b).sum(axis=0))\n",
      " [ 63.          75.95393341  89.04493248] \n",
      "\n",
      "np.tile(np.sqrt((b * b).sum(axis=0)),(b.shape[0],1))\n",
      " [[ 63.          75.95393341  89.04493248]\n",
      " [ 63.          75.95393341  89.04493248]\n",
      " [ 63.          75.95393341  89.04493248]\n",
      " [ 63.          75.95393341  89.04493248]] \n",
      "\n",
      "b / np.tile(np.sqrt((b * b).sum(axis=0)),(b.shape[0],1))\n",
      " [[-0.5        -0.53321794 -0.55589912]\n",
      " [-0.35714286 -0.33572981 -0.32006313]\n",
      " [ 0.07142857  0.09874406  0.117918  ]\n",
      " [ 0.78571429  0.77020369  0.75804426]] \n",
      "\n",
      "c = np.asfortranarray(b / np.tile(np.sqrt((b * b).sum(axis=0)),(b.shape[0],1)),dtype = np.float)\n",
      " [[-0.5        -0.53321794 -0.55589912]\n",
      " [-0.35714286 -0.33572981 -0.32006313]\n",
      " [ 0.07142857  0.09874406  0.117918  ]\n",
      " [ 0.78571429  0.77020369  0.75804426]] \n",
      "\n"
     ]
    }
   ],
   "source": [
    "a = np.arange(12).reshape(4,3)\n",
    "a = a * a\n",
    "b = a - np.tile(np.mean(a,axis=0),(a.shape[0],1))\n",
    "c = np.asfortranarray(b / np.tile(np.sqrt((b * b).sum(axis=0)),(b.shape[0],1)),dtype = np.float)\n",
    "print(\"a\\n\", a, \"\\n\")\n",
    "print(\"np.mean(a,axis=0)\\n\", np.mean(a,axis=0), \"\\n\")\n",
    "print(\"(a.shape[0],1)\\n\", (a.shape[0],1), \"\\n\")\n",
    "print(\"b = a - np.tile(np.mean(a,axis=0),(a.shape[0],1))\\n\", b, \"\\n\")\n",
    "print(\"(b * b).sum(axis=0)\\n\", (b * b).sum(axis=0), \"\\n\")\n",
    "print(\"np.sqrt((b * b).sum(axis=0))\\n\", np.sqrt((b * b).sum(axis=0)), \"\\n\")\n",
    "print(\"np.tile(np.sqrt((b * b).sum(axis=0)),(b.shape[0],1))\\n\", \n",
    "      np.tile(np.sqrt((b * b).sum(axis=0)),(b.shape[0],1)), \"\\n\")\n",
    "print(\"b / np.tile(np.sqrt((b * b).sum(axis=0)),(b.shape[0],1))\\n\", \n",
    "      b / np.tile(np.sqrt((b * b).sum(axis=0)),(b.shape[0],1)), \"\\n\")\n",
    "print(\"c = np.asfortranarray(b / np.tile(np.sqrt((b * b).sum(axis=0)),(b.shape[0],1)),dtype = np.float)\\n\", c, \"\\n\")"
   ]
  },
  {
   "cell_type": "code",
   "execution_count": 45,
   "metadata": {
    "collapsed": false
   },
   "outputs": [
    {
     "name": "stdout",
     "output_type": "stream",
     "text": [
      "[ 32  64 128 256 512]\n",
      "[ 2  4  8 16]\n"
     ]
    }
   ],
   "source": [
    "print(2**np.arange(5,10))\n",
    "print(2**np.arange(1,5))"
   ]
  }
 ],
 "metadata": {
  "kernelspec": {
   "display_name": "Python 2",
   "language": "python",
   "name": "python2"
  },
  "language_info": {
   "codemirror_mode": {
    "name": "ipython",
    "version": 2
   },
   "file_extension": ".py",
   "mimetype": "text/x-python",
   "name": "python",
   "nbconvert_exporter": "python",
   "pygments_lexer": "ipython2",
   "version": "2.7.10"
  }
 },
 "nbformat": 4,
 "nbformat_minor": 0
}
