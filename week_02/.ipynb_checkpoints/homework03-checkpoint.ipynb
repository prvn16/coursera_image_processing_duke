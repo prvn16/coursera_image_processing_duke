{
 "cells": [
  {
   "cell_type": "code",
   "execution_count": null,
   "metadata": {
    "collapsed": true
   },
   "outputs": [],
   "source": [
    "from __future__ import division, print_function\n",
    "\n",
    "import skimage\n",
    "import numpy as np\n",
    "from matplotlib import pyplot as plt\n",
    "from skimage import img_as_float, img_as_ubyte\n",
    "from skimage import io\n",
    "\n",
    "from scipy import fftpack\n",
    "\n",
    "%matplotlib inline"
   ]
  },
  {
   "cell_type": "code",
   "execution_count": null,
   "metadata": {
    "collapsed": false
   },
   "outputs": [],
   "source": [
    "img = io.imread('bossier.jpg')\n",
    "img = img_as_float(img)"
   ]
  },
  {
   "cell_type": "code",
   "execution_count": null,
   "metadata": {
    "collapsed": false
   },
   "outputs": [],
   "source": [
    "def pad_image(img):\n",
    "    ro = img.shape[0]\n",
    "    co = img.shape[1]\n",
    "    r = ro + ro % 8\n",
    "    c = co + co % 8\n",
    "    if len(img.shape) == 3:\n",
    "        ch = img.shape[2]\n",
    "        img2 = np.zeros(r*c*ch).reshape(r,c,ch)\n",
    "        img2[:ro,:co,:] = img[:ro,:co,:]\n",
    "    else: # single channel\n",
    "        img2 = np.zeros(r*c).reshape(r,c)\n",
    "        img2[:ro,:co] = img[:ro,:co]\n",
    "    return img2"
   ]
  },
  {
   "cell_type": "code",
   "execution_count": null,
   "metadata": {
    "collapsed": false
   },
   "outputs": [],
   "source": [
    "img = pad_image(img)\n",
    "\n",
    "print(img.shape, type(img))\n",
    "\n",
    "fig, axes = plt.subplots(ncols=1, figsize=(10, 10))\n",
    "axes.imshow(img)\n",
    "axes.set_xticks([])\n",
    "axes.set_yticks([]);\n"
   ]
  },
  {
   "cell_type": "code",
   "execution_count": null,
   "metadata": {
    "collapsed": false
   },
   "outputs": [],
   "source": [
    "R = img.copy()\n",
    "G = img.copy()\n",
    "B = img.copy()\n",
    "R[:,:,(1,2)] = 0\n",
    "G[:,:,(0,2)] = 0\n",
    "B[:,:,(0,1)] = 0\n",
    "\n",
    "fig, axes = plt.subplots(ncols=3, figsize=(10, 10))\n",
    "axes[0].imshow(R)\n",
    "axes[1].imshow(G)\n",
    "axes[2].imshow(B);"
   ]
  },
  {
   "cell_type": "code",
   "execution_count": null,
   "metadata": {
    "collapsed": true
   },
   "outputs": [],
   "source": [
    "def get_2D_dct(img):\n",
    "    \"\"\" Get 2D Cosine Transform of Image\n",
    "    \"\"\"\n",
    "    return fftpack.dct(fftpack.dct(img.T, norm='ortho').T, norm='ortho')\n",
    "\n",
    "def get_2D_idct(coefficients):\n",
    "    \"\"\" Get 2D Inverse Cosine Transform of Image\n",
    "    \"\"\"\n",
    "    return fftpack.idct(fftpack.idct(coefficients.T, norm='ortho').T, norm='ortho')\n",
    "\n",
    "def get_8x8_block(img, r_start, c_start, channel):\n",
    "    \"\"\" Get an 8x8 block from the image\n",
    "    \"\"\"\n",
    "    return img[r_start:r_start+8, c_start:c_start+8, channel]\n",
    "\n",
    "def put_8x8_block(img, block, r_start, c_start, channel):\n",
    "    img_new = img\n",
    "    img_new[r_start:r_start+8, c_start:c_start+8, channel] = block\n",
    "    return img_new\n",
    "\n",
    "def compress(img, n_coeff):\n",
    "    img_reconstructed = np.zeros_like(img)\n",
    "\n",
    "    for start_row in np.arange(0,img.shape[0],8):\n",
    "        for start_col in np.arange(0,img.shape[1],8):\n",
    "            for channel in range(0,3):\n",
    "                block = get_8x8_block(img, start_row, start_col, channel)\n",
    "                block_dct = get_2D_dct(block)\n",
    "                # block_dct_quantized = quantize(block_dct, factor)\n",
    "                block_dct_quantized = get_n_max_vals(block_dct, int(n_coeff))\n",
    "                block_reconstructed = get_2D_idct(block_dct_quantized)\n",
    "                img_reconstructed = put_8x8_block(img_reconstructed, block_reconstructed, start_row, start_col, channel)\n",
    "    return np.clip(img_reconstructed,0,1)\n",
    "\n",
    "def get_n_max_vals(blk, n):\n",
    "    # Convert it into a 1D array and take absolute value\n",
    "    a_1d = np.abs(blk.flatten())\n",
    "    # Find the indices in the 1D array\n",
    "    idx_1d = a_1d.argsort()[-n:]\n",
    "    # Get min of the maxes\n",
    "    m = a_1d[idx_1d[0]]\n",
    "    \n",
    "    b = np.zeros_like(blk)\n",
    "    b[blk >= m] = blk[blk >= m] # Large positive values\n",
    "    b[blk <= -m] = blk[blk <= -m] # Large negative values\n",
    "    return b\n"
   ]
  },
  {
   "cell_type": "markdown",
   "metadata": {},
   "source": [
    "## Converting to YCbCr\n",
    "\n",
    "https://en.wikipedia.org/wiki/YCbCr\n",
    "\n",
    "JFIF usage of JPEG allows Y′CbCr where Y′, CB and CR have the full 8-bit range of 0-255:[4]\n",
    "\n",
    "$$\n",
    "    \\begin{align} Y' &=& 0 &+ (0.299 & \\cdot R'_D) &+ (0.587 & \\cdot G'_D) &+ (0.114 & \\cdot B'_D)\\\\ C_B &=& 128 & - (0.168736 & \\cdot R'_D) &- (0.331264 & \\cdot G'_D) &+ (0.5 & \\cdot B'_D)\\\\ C_R &=& 128 &+ (0.5 & \\cdot R'_D) &- (0.418688 & \\cdot G'_D) &- (0.081312 & \\cdot B'_D) \\end{align}\n",
    "$$\n",
    "\n",
    "And back:\n",
    "\n",
    "$$\n",
    "    \\begin{align} R &=& Y &&& + 1.402 & \\cdot (C_R-128) \\\\ G &=& Y & - 0.34414 & \\cdot (C_B-128)& - 0.71414 & \\cdot (C_R-128) \\\\ B &=& Y & + 1.772 & \\cdot (C_B-128)& \\end{align} \n",
    "$$"
   ]
  },
  {
   "cell_type": "code",
   "execution_count": null,
   "metadata": {
    "collapsed": true
   },
   "outputs": [],
   "source": [
    "def rgb2ycbcr(img):\n",
    "    image_ubyte = img_as_ubyte(img)\n",
    "    img_new = np.zeros_like(image_ubyte)\n",
    "    CM_to_ycbcr = np.array([[0, .299, .587, .114],\n",
    "                            [128, -.168736, -.331264, .5],\n",
    "                            [128, .5, -.418688, -.081312]])\n",
    "    \n",
    "    for row in range(image_ubyte.shape[0]):\n",
    "        for col in range(image_ubyte.shape[1]):\n",
    "            pix_with_bias = np.ones(4)\n",
    "            pix_with_bias[1:4] = image_ubyte[row, col, :]\n",
    "            img_new[row, col, :] = np.dot(CM_to_ycbcr, pix_with_bias)\n",
    "    return img_as_float(img_new)"
   ]
  },
  {
   "cell_type": "markdown",
   "metadata": {},
   "source": [
    "Factor out bias terms in the reverse direction:\n",
    "\n",
    "$$\n",
    "\\begin{align}\n",
    "R &= 1 \\times Y + 0 \\times (C_B - 128) + 1.402 \\times (C_R-128) \\\\\n",
    "R &= 1 \\times Y + 0 C_B - 0 \\times 128 + 1.402 C_R - 1.402 \\times 128 \\\\\n",
    "R &= - 1.402 \\times 128 + 1 \\times Y + 0 \\times C_B + 1.402 \\times C_R \\\\\n",
    "R &= - 179.456 + 1 \\times Y + 0 \\times C_B + 1.402 \\times C_R \\\\\n",
    "\\\\\n",
    "G &= 1 \\times Y - 0.34414 \\times (C_B - 128) - 0.71414 \\times (C_R-128) \\\\\n",
    "G &= 1 \\times Y - 0.34414 \\times C_B + 0.34414 \\times 128 - 0.71414 \\times C_R + 0.71414 \\times 128 \\\\\n",
    "G &= (0.34414 + 0.71414) \\times 128 + 1 \\times Y - 0.34414 \\times C_B  - 0.71414 \\times C_R \\\\\n",
    "G &= 135.45984 + 1 \\times Y - 0.34414 \\times C_B  - 0.71414 \\times C_R \\\\\n",
    "\\\\\n",
    "B &= 1 \\times Y + 1.772 \\times (C_B - 128) + 0 \\times (C_R-128) \\\\\n",
    "B &= 1 \\times Y + 1.772 \\times C_B - 1.772 \\times 128 + 0 \\times C_R \\\\\n",
    "B &= - 1.772 \\times 128 + 1 \\times Y + 1.772 \\times C_B + 0 \\times C_R \\\\\n",
    "B &= - 226.816 + 1 \\times Y + 1.772 \\times C_B + 0 \\times C_R \\\\\n",
    "\\end{align}\n",
    "$$\n",
    "\n"
   ]
  },
  {
   "cell_type": "code",
   "execution_count": null,
   "metadata": {
    "collapsed": false
   },
   "outputs": [],
   "source": [
    "def ycbcr2rgb(img):\n",
    "    image_ubyte = img_as_ubyte(img)\n",
    "    img_new = np.zeros_like(image_ubyte)\n",
    "    CM_to_rgb = np.array([[-179.456, 1, 0, 1.402],\n",
    "                          [135.45984, 1, -.34414, -.71414],\n",
    "                          [-226.816, 1, 1.772, 0]])\n",
    "\n",
    "    for row in range(image_ubyte.shape[0]):\n",
    "        for col in range(image_ubyte.shape[1]):\n",
    "            pix_with_bias = np.ones(4)\n",
    "            pix_with_bias[1:4] = image_ubyte[row, col, :]\n",
    "            img_new[row, col, :] = np.dot(CM_to_rgb, pix_with_bias)\n",
    "            # if np.any(img_new[row, col, :] < 0) |  np.any(img_new[row, col, :] > 255):\n",
    "                # print(row, col, pix_with_bias, img_new[row, col, :])\n",
    "    # return img_as_float(img_new)    \n",
    "    return img_as_float(np.clip(img_new, 0, 255))"
   ]
  },
  {
   "cell_type": "code",
   "execution_count": null,
   "metadata": {
    "collapsed": false
   },
   "outputs": [],
   "source": [
    "img_ycbcr = ycbcr2rgb(img)"
   ]
  },
  {
   "cell_type": "code",
   "execution_count": null,
   "metadata": {
    "collapsed": false
   },
   "outputs": [],
   "source": [
    "fig, axes = plt.subplots(ncols=3, figsize=(15, 15))\n",
    "labels = [\"Y\", \"Cb\", \"Cr\"]\n",
    "for ch in range(0,3):\n",
    "    axes[ch].imshow(img_ycbcr[:,:,ch], cmap=\"gray\", interpolation=\"nearest\")\n",
    "    axes[ch].set_xlabel(\"Channel: %s\" % labels[ch], fontsize=18)\n",
    "    axes[ch].set_xticks([])\n",
    "    axes[ch].set_yticks([])\n",
    "\n",
    "plt.tight_layout()"
   ]
  },
  {
   "cell_type": "code",
   "execution_count": null,
   "metadata": {
    "collapsed": false,
    "scrolled": false
   },
   "outputs": [],
   "source": [
    "n_coeff = 32.0\n",
    "\n",
    "fig, axes = plt.subplots(2, 3, figsize=(15, 15))\n",
    "fig.suptitle(\"Image Results -- N Largest DCT Coefficients\", fontsize=24)\n",
    "for r in range(0,2):\n",
    "    for c in range(0,3):\n",
    "        if (r==0) & (c==0) & False: \n",
    "            axes[r,c].imshow(img)\n",
    "        else: \n",
    "            img_compressed = compress(img, n_coeff)\n",
    "            axes[r,c].imshow(img_compressed[100:500, 200:500, :], interpolation=\"nearest\")\n",
    "            # axes[r,c].set_title(\"%s/64 DCT Coefficients\" % int(n_coeff))\n",
    "            axes[r,c].set_xlabel(\"%s/64 Coefficients\" % int(n_coeff), fontsize=18)\n",
    "            axes[r,c].set_xticks([])\n",
    "            axes[r,c].set_yticks([])\n",
    "            fname = \"b_rgb_\" + str(n_coeff) + \".jpg\"\n",
    "            io.imsave(fname, img_as_ubyte(img_compressed))\n",
    "        n_coeff = n_coeff/2\n",
    "    \n",
    "plt.tight_layout()\n",
    "                                "
   ]
  }
 ],
 "metadata": {
  "kernelspec": {
   "display_name": "Python 2",
   "language": "python",
   "name": "python2"
  },
  "language_info": {
   "codemirror_mode": {
    "name": "ipython",
    "version": 2
   },
   "file_extension": ".py",
   "mimetype": "text/x-python",
   "name": "python",
   "nbconvert_exporter": "python",
   "pygments_lexer": "ipython2",
   "version": "2.7.11"
  }
 },
 "nbformat": 4,
 "nbformat_minor": 0
}
