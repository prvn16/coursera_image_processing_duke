{
 "cells": [
  {
   "cell_type": "markdown",
   "metadata": {},
   "source": [
    "The target pixel is p(i,j).  Three patches to which the pixel belongs are shown in blue.  The origin of each patch is the upper left corner.  The location of the patch origin with respect to the whole image is\n",
    "\n",
    "$$\n",
    "\\begin{aligned}\n",
    "O(x) &= (ii,jj) \\\\\n",
    "ii &= i - (m-1) + offset_c \\\\\n",
    "&= i - m + offset_c + 1\\\\\n",
    "jj &= j - (n-1) + offset_r \\\\\n",
    "&= j - n + offset_r + 1 \\\\\n",
    "\\end{aligned}\n",
    "$$\n",
    "\n",
    "The location of the target pixel with respect to the patch origin is\n",
    "\n",
    "$$\n",
    "\\begin{aligned}\n",
    "i_{patch} &= d_c \\\\\n",
    "&= m - offset_c - 1 \\\\\n",
    "j_{patch} &= n - offset_r - 1 \\\\\n",
    "\\end{aligned}\n",
    "$$"
   ]
  }
 ],
 "metadata": {
  "kernelspec": {
   "display_name": "Python 2",
   "language": "python",
   "name": "python2"
  },
  "language_info": {
   "codemirror_mode": {
    "name": "ipython",
    "version": 2
   },
   "file_extension": ".py",
   "mimetype": "text/x-python",
   "name": "python",
   "nbconvert_exporter": "python",
   "pygments_lexer": "ipython2",
   "version": "2.7.10"
  }
 },
 "nbformat": 4,
 "nbformat_minor": 0
}
