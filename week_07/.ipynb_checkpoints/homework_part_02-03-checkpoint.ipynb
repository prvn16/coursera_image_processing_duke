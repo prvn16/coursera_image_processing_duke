{
 "cells": [
  {
   "cell_type": "markdown",
   "metadata": {},
   "source": [
    "## Week 7 Part 2\n",
    "For a given image, compute at every pixel the inner product between the gradient of the Laplacian and the level lines normal, this being the main term in one of the inpainting techniques we learned. Display it and analyze its behavior. "
   ]
  },
  {
   "cell_type": "code",
   "execution_count": 3,
   "metadata": {
    "collapsed": true
   },
   "outputs": [],
   "source": [
    "from __future__ import division, print_function\n",
    "\n",
    "import numpy as np\n",
    "from matplotlib import pyplot as plt\n",
    "import time\n",
    "\n",
    "from skimage import img_as_float\n",
    "from skimage import io\n",
    "from skimage.color import rgb2gray\n",
    "\n",
    "%matplotlib inline\n",
    "\n",
    "# Plotting functions\n",
    "\n",
    "def plot_1xc(imgs_list, titles_list, save_file=None):\n",
    "    cols = len(imgs_list)\n",
    "    i = 0\n",
    "    \n",
    "    fig, axes = plt.subplots(nrows=1, ncols=cols, figsize=(15,15))\n",
    "    for c in range(cols):\n",
    "        axes[c].imshow(imgs_list[i], cmap=\"gray\", interpolation=\"nearest\")\n",
    "        axes[c].set_title(titles_list[i], size=20)\n",
    "        axes[c].set_xticks([])\n",
    "        axes[c].set_yticks([])\n",
    "        i = i + 1\n",
    "    plt.tight_layout();\n",
    "    \n",
    "    if not (save_file == None):\n",
    "        filename = time.strftime(\"%Y%m%d_%H%M\") + \"_\" + save_file + \".png\"\n",
    "        fig.savefig(filename, bbox_inches='tight')\n",
    "        \n",
    "def plot_rxc(imgs_list, titles_list, ncol=3, save_file=None):\n",
    "    cols = ncol\n",
    "    rows = np.ceil(len(imgs_list)/cols).astype(int)\n",
    "    if rows==1:\n",
    "        plot_1xc(imgs_list, titles_list, save_file)\n",
    "    else:\n",
    "        i = 0\n",
    "    \n",
    "        fig, axes = plt.subplots(nrows=rows, ncols=cols, figsize=(15,15*rows/cols))\n",
    "        for r in range(rows):\n",
    "            for c in range(cols):\n",
    "                if i < len(imgs_list):\n",
    "                    axes[r,c].imshow(imgs_list[i], cmap=\"gray\", interpolation=\"nearest\")\n",
    "                    axes[r,c].set_title(titles_list[i], size=20)\n",
    "                    axes[r,c].set_xticks([])\n",
    "                    axes[r,c].set_yticks([])\n",
    "                i = i + 1\n",
    "        plt.tight_layout();\n",
    "    \n",
    "        if not (save_file == None):\n",
    "            filename = time.strftime(\"%Y%m%d_%H%M\") + \"_\" + save_file + \".png\"\n",
    "            fig.savefig(filename, bbox_inches='tight')"
   ]
  },
  {
   "cell_type": "code",
   "execution_count": 5,
   "metadata": {
    "collapsed": false
   },
   "outputs": [
    {
     "ename": "ImportError",
     "evalue": "No module named inpaint_biharmonic",
     "output_type": "error",
     "traceback": [
      "\u001b[1;31m---------------------------------------------------------------------------\u001b[0m",
      "\u001b[1;31mImportError\u001b[0m                               Traceback (most recent call last)",
      "\u001b[1;32m<ipython-input-5-3056f403809e>\u001b[0m in \u001b[0;36m<module>\u001b[1;34m()\u001b[0m\n\u001b[0;32m      3\u001b[0m \u001b[1;33m\u001b[0m\u001b[0m\n\u001b[0;32m      4\u001b[0m \u001b[1;32mfrom\u001b[0m \u001b[0mskimage\u001b[0m \u001b[1;32mimport\u001b[0m \u001b[0mdata\u001b[0m\u001b[1;33m,\u001b[0m \u001b[0mcolor\u001b[0m\u001b[1;33m\u001b[0m\u001b[0m\n\u001b[1;32m----> 5\u001b[1;33m \u001b[1;32mimport\u001b[0m \u001b[0mskimage\u001b[0m\u001b[1;33m.\u001b[0m\u001b[0mrestoration\u001b[0m\u001b[1;33m.\u001b[0m\u001b[0minpaint_biharmonic\u001b[0m \u001b[1;32mas\u001b[0m \u001b[0minpaint\u001b[0m\u001b[1;33m\u001b[0m\u001b[0m\n\u001b[0m\u001b[0;32m      6\u001b[0m \u001b[1;33m\u001b[0m\u001b[0m\n\u001b[0;32m      7\u001b[0m \u001b[0mimage_orig\u001b[0m \u001b[1;33m=\u001b[0m \u001b[0mdata\u001b[0m\u001b[1;33m.\u001b[0m\u001b[0mastronaut\u001b[0m\u001b[1;33m(\u001b[0m\u001b[1;33m)\u001b[0m\u001b[1;33m[\u001b[0m\u001b[1;36m0\u001b[0m\u001b[1;33m:\u001b[0m\u001b[1;36m200\u001b[0m\u001b[1;33m,\u001b[0m \u001b[1;36m0\u001b[0m\u001b[1;33m:\u001b[0m\u001b[1;36m200\u001b[0m\u001b[1;33m]\u001b[0m\u001b[1;33m\u001b[0m\u001b[0m\n",
      "\u001b[1;31mImportError\u001b[0m: No module named inpaint_biharmonic"
     ]
    }
   ],
   "source": [
    "import numpy as np\n",
    "import matplotlib.pyplot as plt\n",
    "\n",
    "from skimage import data, color\n",
    "from skimage.restoration import inpaint\n",
    "\n",
    "image_orig = data.astronaut()[0:200, 0:200]\n",
    "\n",
    "# Create mask with three defect regions: left, middle, right respectively\n",
    "mask = np.zeros(image_orig.shape[:-1])\n",
    "mask[20:60, 0:20] = 1\n",
    "mask[160:180, 70:155] = 1\n",
    "mask[30:60, 170:195] = 1\n",
    "\n",
    "# Defect image over the same region in each color channel\n",
    "image_defect = image_orig.copy()\n",
    "for layer in range(image_defect.shape[-1]):\n",
    "    image_defect[np.where(mask)] = 0\n",
    "\n",
    "image_result = inpaint.inpaint_biharmonic(image_defect, mask, multichannel=True)\n",
    "\n",
    "fig, axes = plt.subplots(ncols=2, nrows=2)\n",
    "ax0, ax1, ax2, ax3 = axes.ravel()\n",
    "\n",
    "ax0.set_title('Original image')\n",
    "ax0.imshow(image_orig)\n",
    "ax0.axis('off')\n",
    "\n",
    "ax1.set_title('Mask')\n",
    "ax1.imshow(mask, cmap=plt.cm.gray)\n",
    "ax1.axis('off')\n",
    "\n",
    "ax2.set_title('Defected image')\n",
    "ax2.imshow(image_defect)\n",
    "ax2.axis('off')\n",
    "\n",
    "ax3.set_title('Inpainted image')\n",
    "ax3.imshow(image_result)\n",
    "ax3.axis('off')\n",
    "\n",
    "fig.tight_layout()\n",
    "plt.show()\n"
   ]
  },
  {
   "cell_type": "code",
   "execution_count": null,
   "metadata": {
    "collapsed": true
   },
   "outputs": [],
   "source": []
  }
 ],
 "metadata": {
  "kernelspec": {
   "display_name": "Python 2",
   "language": "python",
   "name": "python2"
  },
  "language_info": {
   "codemirror_mode": {
    "name": "ipython",
    "version": 2
   },
   "file_extension": ".py",
   "mimetype": "text/x-python",
   "name": "python",
   "nbconvert_exporter": "python",
   "pygments_lexer": "ipython2",
   "version": "2.7.11"
  }
 },
 "nbformat": 4,
 "nbformat_minor": 0
}
