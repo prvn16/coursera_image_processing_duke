{
 "cells": [
  {
   "cell_type": "markdown",
   "metadata": {},
   "source": [
    "## Week 3 Part 3\n",
    "\n",
    "Implement the non-local means algorithm. Try different window sizes. Add different levels of noise and see the influence of it in the need for larger or smaller neighborhoods. (Such block operations are easy when using Matlab, see for example the function at http://www.mathworks.com/help/images/ref/blockproc.html). Compare your results with those available in IPOL as demonstrated in the video lectures. http://www.ipol.im/pub/art/2011/bcm_nlm/\n",
    "    "
   ]
  },
  {
   "cell_type": "code",
   "execution_count": null,
   "metadata": {
    "collapsed": true
   },
   "outputs": [],
   "source": [
    "from __future__ import division, print_function\n",
    "\n",
    "import sys\n",
    "import random\n",
    "import time\n",
    "\n",
    "import numpy as np\n",
    "from matplotlib import pyplot as plt\n",
    "\n",
    "import skimage\n",
    "from skimage import img_as_float, img_as_ubyte\n",
    "from skimage import io\n",
    "\n",
    "%matplotlib inline"
   ]
  },
  {
   "cell_type": "markdown",
   "metadata": {
    "collapsed": true
   },
   "source": [
    "Some convenience functions."
   ]
  },
  {
   "cell_type": "code",
   "execution_count": null,
   "metadata": {
    "collapsed": true
   },
   "outputs": [],
   "source": [
    "def add_noise(img, delta_max, delta_prob):\n",
    "    \"\"\"Adds uniform random noise to an image.\n",
    "    \"\"\"\n",
    "    noise = np.random.randint(-delta_max,delta_max+1,size=img.shape)\n",
    "    mask = np.random.rand(img.shape[0], img.shape[1])\n",
    "    noise = noise * (mask < delta_prob) # keeps noise with prob < delta_prob\n",
    "    im_noise = img + noise\n",
    "    return np.clip(im_noise,0,255)\n",
    "\n",
    "def add_salt_pepper(img, prob):\n",
    "    \"\"\"Adds salt and pepper noise to an image.\n",
    "    \"\"\"\n",
    "    noisy_image = img.copy()\n",
    "    noise = np.random.random(img.shape)\n",
    "    noisy_image[noise > (1-prob/2)] = 255\n",
    "    noisy_image[noise < prob/2] = 0\n",
    "    return noisy_image\n",
    "\n",
    "def nonlocal_pix_avg(img_blocks, block_blocks, rmse_threshold):\n",
    "    pix_new = 0\n",
    "    center_pix = int(img_blocks.shape[2]/2) + 1\n",
    "    \n",
    "    se = (img_blocks - block_blocks)**2\n",
    "    sse = np.sum(np.sum(se, axis=2), axis=1)\n",
    "    mse = sse/(se.shape[1]*se.shape[2])\n",
    "    rmse = np.sqrt(mse)\n",
    "    \n",
    "    # print(\"rmse mean, sd, min, max: \", np.mean(rmse), np.std(rmse), np.min(rmse), np.max(rmse))\n",
    "\n",
    "    mask = rmse < rmse_threshold\n",
    "    \n",
    "    pix_new = np.mean(img_blocks[mask, center_pix, center_pix]).astype(int)\n",
    "\n",
    "    return pix_new\n",
    "\n",
    "def img_as_block_array(img, win):\n",
    "    \"\"\"Rearranges an image into a 3D array of blocks.  \n",
    "    Used for vectorized calculation of rmse.\"\"\"\n",
    "    rows = img.shape[0]\n",
    "    cols = img.shape[1]\n",
    "    img_blocks = np.zeros(((rows-win+1)*(cols-win+1),win,win))\n",
    "    offset = np.floor(win/2).astype(int)\n",
    "    \n",
    "    idx = 0\n",
    "    for r in range(offset, rows-offset):\n",
    "        for c in range(offset, cols-offset):\n",
    "            img_blocks[idx,:,:] = img[(r-offset):(r+offset+1),(c-offset):(c+offset+1)]\n",
    "            idx=idx+1\n",
    "            \n",
    "    return img_blocks\n",
    "\n",
    "def block_as_block_array(block, img_blocks):\n",
    "    \"\"\"Copies a given block along the first axis of a 3D array.\n",
    "    Used for vectorized calculation of rmse\"\"\"\n",
    "    block_blocks = np.zeros_like(img_blocks)\n",
    "    rows_blocks = block_blocks.shape[1]\n",
    "    cols_blocks = block_blocks.shape[2]\n",
    "        \n",
    "    for rb in range(rows_blocks):\n",
    "        for cb in range(cols_blocks):\n",
    "            block_blocks[:,rb,cb] = block[rb,cb]\n",
    "\n",
    "    return block_blocks\n",
    "\n",
    "def random_sample_img_blocks(img_blocks, n_blocks):\n",
    "    \"\"\"Random sample along the first axis of a 3D array\"\"\"\n",
    "    n2 = img_blocks.shape[0]\n",
    "    if n2 <= n_blocks:\n",
    "        return img_blocks\n",
    "    else:\n",
    "        n = np.random.randint(0, n2, n_blocks) # sampling with replacement\n",
    "        return img_blocks[n,:,:]\n",
    "\n",
    "def nonlocal_avg(img, win, rmse_threshold, n_blocks):\n",
    "    img_avg = np.zeros_like(img)\n",
    "    rows = img_avg.shape[0]\n",
    "    cols = img_avg.shape[1]\n",
    "    offset = np.floor(win/2).astype(int)\n",
    "\n",
    "    img_blocks = img_as_block_array(img, win)\n",
    "\n",
    "    for r in range(offset, rows-offset):\n",
    "        # sys.stdout.write(str(r)+\", \") \n",
    "\n",
    "        for c in range(offset, cols-offset):\n",
    "            block = img[(r-offset):(r+offset+1),(c-offset):(c+offset+1)]\n",
    "        \n",
    "            img_blocks_subset = random_sample_img_blocks(img_blocks, n_blocks)\n",
    "            img_blocks_subset[0,:,:] = block # Make sure the target block is included.\n",
    "        \n",
    "            block_blocks = block_as_block_array(block, img_blocks_subset)\n",
    "\n",
    "            img_avg[r,c] = nonlocal_pix_avg(img_blocks_subset, block_blocks, rmse_threshold)\n",
    "    return img_avg"
   ]
  },
  {
   "cell_type": "code",
   "execution_count": null,
   "metadata": {
    "collapsed": true
   },
   "outputs": [],
   "source": [
    "def plot_1xc(imgs_list, titles_list, save_file=None):\n",
    "    cols = len(imgs_list)\n",
    "    i = 0\n",
    "    \n",
    "    fig, axes = plt.subplots(nrows=1, ncols=cols, figsize=(15,15))\n",
    "    for c in range(cols):\n",
    "        axes[c].imshow(imgs_list[i], cmap=\"gray\")\n",
    "        axes[c].set_title(titles_list[i], size=20)\n",
    "        axes[c].set_xticks([])\n",
    "        axes[c].set_yticks([])\n",
    "        i = i + 1\n",
    "    plt.tight_layout();\n",
    "    \n",
    "    if not (save_file == None):\n",
    "        filename = save_file + time.strftime(\"%Y%m%d_%H%M\") + \".png\"\n",
    "        fig.savefig(filename, bbox_inches='tight')"
   ]
  },
  {
   "cell_type": "code",
   "execution_count": null,
   "metadata": {
    "collapsed": false
   },
   "outputs": [],
   "source": [
    "sf = \"None\"\n",
    "not (sf == None)"
   ]
  },
  {
   "cell_type": "markdown",
   "metadata": {},
   "source": [
    "Main loop."
   ]
  },
  {
   "cell_type": "code",
   "execution_count": null,
   "metadata": {
    "collapsed": false
   },
   "outputs": [],
   "source": [
    "img_original = io.imread(\"../lena512color.tiff\")\n",
    "img_original = img_original[:,:,1] # take the green channel as intensity\n",
    "img_original = img_original[10:500, 10:500]\n",
    "\n",
    "# img_noisy = add_salt_pepper(img_original, 0.01)\n",
    "img_noisy = img_as_ubyte(skimage.util.random_noise(img_original))\n",
    "plot_1xc([img_original, img_noisy], [\"Original\", \"Gaussian Noise\"])"
   ]
  },
  {
   "cell_type": "code",
   "execution_count": null,
   "metadata": {
    "collapsed": false,
    "scrolled": false
   },
   "outputs": [],
   "source": [
    "imgs_reconstructed = []\n",
    "params = []\n",
    "plot_it = True\n",
    "\n",
    "# for win in [3, 5, 7, 9]: # Odd number only.\n",
    "for win in [5]: # Odd number only.\n",
    "    for rmse_threshold in range(20, 81, 20):\n",
    "        # for n_blocks in [100, 400, 1600]:\n",
    "        for n_blocks in [1600]:\n",
    "            s = str(win) + \"_\" + str(rmse_threshold) + \"_\" + str(n_blocks) + \"_\" + time.strftime(\"%H:%M\") + \", \"\n",
    "            sys.stdout.write(s) \n",
    "            params.append([win, rmse_threshold, n_blocks])\n",
    "            imgs_reconstructed.append(nonlocal_avg(img_noisy, win, rmse_threshold, n_blocks))\n",
    "            # imgs_reconstructed.append(img_original)\n",
    "\n",
    "# Plotting\n",
    "if plot_it:\n",
    "    n_col=3\n",
    "    n_row = np.ceil(len(params)/float(n_col)).astype(int)\n",
    "    fig, axes = plt.subplots(nrows=n_row, ncols=n_col, figsize=(15,n_row*5))\n",
    "\n",
    "    i = 0\n",
    "    for r in range(n_row):\n",
    "        for c in range(n_col):\n",
    "            if i < len(params):\n",
    "                axes[r,c].imshow(imgs_reconstructed[i], cmap=\"gray\")\n",
    "                axes[r,c].set_title(\"win, thresh, n:\" + str(params[i]))\n",
    "            i = i + 1\n",
    "    plt.tight_layout()\n",
    "    filename = \"nonlocal_average_\" + time.strftime(\"%Y%m%d_%H%M\") + \".png\"\n",
    "    fig.savefig(filename, bbox_inches='tight')"
   ]
  },
  {
   "cell_type": "markdown",
   "metadata": {},
   "source": [
    "Final output."
   ]
  },
  {
   "cell_type": "code",
   "execution_count": null,
   "metadata": {
    "collapsed": false
   },
   "outputs": [],
   "source": [
    "img_original = io.imread(\"../lena512color.tiff\")\n",
    "img_original = img_original[:,:,1] # take the green channel as intensity\n",
    "img_original = img_original[10:500, 10:500]\n",
    "\n",
    "# img_noisy = add_salt_pepper(img_original, 0.01)\n",
    "img_noisy = img_as_ubyte(skimage.util.random_noise(img_original))\n",
    "\n",
    "img_reconstructed = nonlocal_avg(img_noisy, win=5, rmse_threshold=60, n_blocks=1600)\n",
    "\n",
    "ims = [img_original, img_noisy, img_reconstructed]\n",
    "titles = [\"Original\", \"Gaussian Noise\", \"win=5, rmse=60, n=1600\"]\n",
    "plot_1xc(ims, titles, save_file=\"reconstructed\")\n"
   ]
  }
 ],
 "metadata": {
  "kernelspec": {
   "display_name": "Python 2",
   "language": "python",
   "name": "python2"
  },
  "language_info": {
   "codemirror_mode": {
    "name": "ipython",
    "version": 2
   },
   "file_extension": ".py",
   "mimetype": "text/x-python",
   "name": "python",
   "nbconvert_exporter": "python",
   "pygments_lexer": "ipython2",
   "version": "2.7.11"
  }
 },
 "nbformat": 4,
 "nbformat_minor": 0
}
