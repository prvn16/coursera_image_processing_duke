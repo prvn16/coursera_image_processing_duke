{
 "cells": [
  {
   "cell_type": "code",
   "execution_count": null,
   "metadata": {
    "collapsed": true
   },
   "outputs": [],
   "source": [
    "from PIL import Image\n",
    "import numpy as np\n",
    "import matplotlib.pyplot as plt\n",
    "import matplotlib.image as mpimg\n",
    "from scipy import fftpack\n",
    "\n",
    "%matplotlib inline"
   ]
  },
  {
   "cell_type": "code",
   "execution_count": null,
   "metadata": {
    "collapsed": false
   },
   "outputs": [],
   "source": [
    "img=mpimg.imread('bossier.jpg')\n",
    "print img.shape, type(img)"
   ]
  },
  {
   "cell_type": "code",
   "execution_count": null,
   "metadata": {
    "collapsed": false
   },
   "outputs": [],
   "source": [
    "print img.shape[0]/8.0, img.shape[1]/8.0\n",
    "print (img.shape[0]+1)/8.0, (img.shape[1]-2)/8.0"
   ]
  },
  {
   "cell_type": "code",
   "execution_count": null,
   "metadata": {
    "collapsed": false
   },
   "outputs": [],
   "source": [
    "r = img.shape[0]+1\n",
    "c = img.shape[1]-2\n",
    "img2 = np.zeros(r*c*3, dtype=np.dtype(np.uint8)).reshape(r,c,3)\n",
    "img2[:975,:728,:] = img[:975,:728,:]\n",
    "img = img2"
   ]
  },
  {
   "cell_type": "code",
   "execution_count": null,
   "metadata": {
    "collapsed": false
   },
   "outputs": [],
   "source": [
    "imgplot = plt.imshow(img)"
   ]
  },
  {
   "cell_type": "code",
   "execution_count": null,
   "metadata": {
    "collapsed": true
   },
   "outputs": [],
   "source": [
    "def get_2D_dct(img):\n",
    "    \"\"\" Get 2D Cosine Transform of Image\n",
    "    \"\"\"\n",
    "    d = fftpack.dct(fftpack.dct(img.T, norm='ortho').T, norm='ortho')\n",
    "    return d.astype(int)\n",
    "\n",
    "def get_2D_idct(coefficients):\n",
    "    \"\"\" Get 2D Inverse Cosine Transform of Image\n",
    "    \"\"\"\n",
    "    id = fftpack.idct(fftpack.idct(coefficients.T, norm='ortho').T, norm='ortho')\n",
    "    return id.astype(int)\n",
    "\n",
    "def get_8x8_block(img, r_start, c_start, channel):\n",
    "    \"\"\" Get an 8x8 block from the image\n",
    "    \"\"\"\n",
    "    return img[r_start:r_start+8, c_start:c_start+8, channel]\n",
    "\n",
    "def put_8x8_block(img, block, r_start, c_start, channel):\n",
    "    img_new = img\n",
    "    img_new[r_start:r_start+8, c_start:c_start+8, channel] = block\n",
    "    return img_new\n",
    "\n",
    "def quantize(dct_block, factor):\n",
    "    \"\"\" Get a quantized version of a matrix\n",
    "    \"\"\"\n",
    "    f = float(factor)\n",
    "    q = np.floor(dct_block/f)*f\n",
    "    return q.astype(int)\n",
    "\n",
    "def compress(img, factor):\n",
    "    img_reconstructed = np.zeros_like(img)\n",
    "\n",
    "    for start_row in np.arange(0,img.shape[0],8):\n",
    "        for start_col in np.arange(0,img.shape[1],8):\n",
    "            for channel in range(0,3):\n",
    "                block = get_8x8_block(img, start_row, start_col, channel)\n",
    "                block_dct = get_2D_dct(block)\n",
    "                block_dct_quantized = quantize(block_dct, factor)\n",
    "                block_reconstructed = get_2D_idct(block_dct_quantized)\n",
    "                img_reconstructed = put_8x8_block(img_reconstructed, block_reconstructed, start_row, start_col, channel)\n",
    "    return img_reconstructed"
   ]
  },
  {
   "cell_type": "code",
   "execution_count": null,
   "metadata": {
    "collapsed": false
   },
   "outputs": [],
   "source": [
    "factor = 16\n"
   ]
  },
  {
   "cell_type": "markdown",
   "metadata": {},
   "source": [
    "## Converting to YCbCr\n",
    "\n",
    "https://en.wikipedia.org/wiki/YCbCr\n",
    "\n",
    "JFIF usage of JPEG allows Y′CbCr where Y′, CB and CR have the full 8-bit range of 0-255:[4]\n",
    "\n",
    "$$\n",
    "    \\begin{align} Y' &=& 0 &+ (0.299 & \\cdot R'_D) &+ (0.587 & \\cdot G'_D) &+ (0.114 & \\cdot B'_D)\\\\ C_B &=& 128 & - (0.168736 & \\cdot R'_D) &- (0.331264 & \\cdot G'_D) &+ (0.5 & \\cdot B'_D)\\\\ C_R &=& 128 &+ (0.5 & \\cdot R'_D) &- (0.418688 & \\cdot G'_D) &- (0.081312 & \\cdot B'_D) \\end{align}\n",
    "$$\n",
    "\n",
    "And back:\n",
    "\n",
    "$$\n",
    "    \\begin{align} R &=& Y &&& + 1.402 & \\cdot (C_R-128) \\\\ G &=& Y & - 0.34414 & \\cdot (C_B-128)& - 0.71414 & \\cdot (C_R-128) \\\\ B &=& Y & + 1.772 & \\cdot (C_B-128)& \\end{align} \n",
    "$$"
   ]
  },
  {
   "cell_type": "markdown",
   "metadata": {},
   "source": [
    "Factor out bias terms:\n",
    "\n",
    "$$\n",
    "\\begin{align}\n",
    "R &= 1 \\times Y + 0 \\times (C_B - 128) + 1.402 \\times (C_R-128) \\\\\n",
    "R &= 1 \\times Y + 0 C_B - 0 \\times 128 + 1.402 C_R - 1.402 \\times 128 \\\\\n",
    "R &= - 1.402 \\times 128 + 1 \\times Y + 0 \\times C_B + 1.402 \\times C_R \\\\\n",
    "R &= - 179.456 + 1 \\times Y + 0 \\times C_B + 1.402 \\times C_R \\\\\n",
    "\\\\\n",
    "G &= 1 \\times Y - 0.34414 \\times (C_B - 128) - 0.71414 \\times (C_R-128) \\\\\n",
    "G &= 1 \\times Y - 0.34414 \\times C_B + 0.34414 \\times 128 - 0.71414 \\times C_R + 0.71414 \\times 128 \\\\\n",
    "G &= (0.34414 + 0.71414) \\times 128 + 1 \\times Y - 0.34414 \\times C_B  - 0.71414 \\times C_R \\\\\n",
    "G &= 135.45984 + 1 \\times Y - 0.34414 \\times C_B  - 0.71414 \\times C_R \\\\\n",
    "\\\\\n",
    "B &= 1 \\times Y + 1.772 \\times (C_B - 128) + 0 \\times (C_R-128) \\\\\n",
    "B &= 1 \\times Y + 1.772 \\times C_B - 1.772 \\times 128 + 0 \\times C_R \\\\\n",
    "B &= - 1.772 \\times 128 + 1 \\times Y + 1.772 \\times C_B + 0 \\times C_R \\\\\n",
    "B &= - 226.816 + 1 \\times Y + 1.772 \\times C_B + 0 \\times C_R \\\\\n",
    "\\end{align}\n",
    "$$\n",
    "\n"
   ]
  },
  {
   "cell_type": "code",
   "execution_count": null,
   "metadata": {
    "collapsed": false
   },
   "outputs": [],
   "source": [
    "def rgb2ycbcr(img):\n",
    "    img_new = np.zeros_like(img)\n",
    "    CM_to_ycbcr = np.array([[0, .299, .587, .114],[128, -.168736, -.331264, .5],[128, .5, -.418688, -.081312]])\n",
    "    \n",
    "    for row in range(img.shape[0]):\n",
    "        for col in range(img.shape[1]):\n",
    "            pix_with_bias = np.ones(4)\n",
    "            pix_with_bias[1:4] = img[row, col, :]\n",
    "            img_new[row, col, :] = np.dot(CM_to_ycbcr, pix_with_bias)\n",
    "    return img_new\n",
    "\n",
    "def ycbcr2rgb(img):\n",
    "    img_new = np.zeros_like(img)\n",
    "    CM_to_rgb = np.array([[-179.456, 1, 0, 1.402],[135.45984, 1, -.34414, -.71414],[-226.816, 1, 1.772, 0]])\n",
    "\n",
    "    for row in range(img.shape[0]):\n",
    "        for col in range(img.shape[1]):\n",
    "            pix_with_bias = np.ones(4)\n",
    "            pix_with_bias[1:4] = img[row, col, :]\n",
    "            img_new[row, col, :] = np.dot(CM_to_rgb, pix_with_bias)\n",
    "    return img_new"
   ]
  },
  {
   "cell_type": "code",
   "execution_count": null,
   "metadata": {
    "collapsed": false
   },
   "outputs": [],
   "source": [
    "factor = 64"
   ]
  },
  {
   "cell_type": "code",
   "execution_count": null,
   "metadata": {
    "collapsed": false
   },
   "outputs": [],
   "source": [
    "img_compressed = compress(img, factor)\n",
    "imgplot = plt.imshow(img_compressed)"
   ]
  },
  {
   "cell_type": "code",
   "execution_count": null,
   "metadata": {
    "collapsed": false
   },
   "outputs": [],
   "source": [
    "img_ycbcr = rgb2ycbcr(img)\n",
    "img_ycbcr_compressed = compress(img_ycbcr, factor)\n",
    "img_rgb_compressed = ycbcr2rgb(img_ycbcr_compressed)\n",
    "\n",
    "imgplot = plt.imshow(img_rgb_compressed)"
   ]
  },
  {
   "cell_type": "code",
   "execution_count": null,
   "metadata": {
    "collapsed": false
   },
   "outputs": [],
   "source": [
    "fname = \"b_rgb_\" + str(factor) + \".jpg\"\n",
    "mpimg.imsave(fname, img_compressed)\n",
    "fname = \"b_ycbcr_\" + str(factor) + \".jpg\"\n",
    "mpimg.imsave(fname, img_rgb_compressed)"
   ]
  }
 ],
 "metadata": {
  "kernelspec": {
   "display_name": "Python 2",
   "language": "python",
   "name": "python2"
  },
  "language_info": {
   "codemirror_mode": {
    "name": "ipython",
    "version": 2
   },
   "file_extension": ".py",
   "mimetype": "text/x-python",
   "name": "python",
   "nbconvert_exporter": "python",
   "pygments_lexer": "ipython2",
   "version": "2.7.11"
  }
 },
 "nbformat": 4,
 "nbformat_minor": 0
}
