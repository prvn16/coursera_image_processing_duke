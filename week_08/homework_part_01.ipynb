{
 "cells": [
  {
   "cell_type": "markdown",
   "metadata": {},
   "source": [
    "(Optional Programming Exercises)\n",
    "\n",
    "    Download and experiment with the sparse modeling free software packages linked in the class website.\n",
    "    Compare the results of sparse modeling image denoising with those of DCT-based image denoising as implemented in ipol.im\n",
    "    Consider an image and select K patches from it as the dictionary; select those patches at random. With this dictionary perform sparse modeling image denoising and compare with the results obtained when learning the dictionary.\n",
    "    Pick a particular example of sparse modeling image denoising and experiment with different dictionary sizes. Plot the histogram of atoms usage, meaning the number of times each atom is used considering all image patches.\n",
    "    \n",
    "http://www.jmlr.org/papers/volume11/mairal10a/mairal10a.pdf\n",
    "    \n",
    "http://spams-devel.gforge.inria.fr/\n",
    "\n",
    "http://spams-devel.gforge.inria.fr/doc-python/html/index.html"
   ]
  },
  {
   "cell_type": "code",
   "execution_count": 1,
   "metadata": {
    "collapsed": true
   },
   "outputs": [],
   "source": [
    "from __future__ import division, print_function\n",
    "\n",
    "import spams\n",
    "import numpy as np\n",
    "# from skimage import io\n",
    "import time\n",
    "from PIL import Image"
   ]
  },
  {
   "cell_type": "code",
   "execution_count": 2,
   "metadata": {
    "collapsed": false
   },
   "outputs": [],
   "source": [
    "def _objective(X,D,param,imgname = None):\n",
    "    print ('Evaluating cost function...')\n",
    "    lparam = _extract_lasso_param(param)\n",
    "    alpha = spams.lasso(X,D = D,**lparam)\n",
    "    # NB : as alpha is sparse, D*alpha is the dot product\n",
    "    xd = X - D * alpha\n",
    "    R = np.mean(0.5 * (xd * xd).sum(axis=0) + param['lambda1'] * np.abs(alpha).sum(axis=0))\n",
    "    print (\"objective function: %f\" %R)\n",
    "    #* display ?\n",
    "    if imgname != None:\n",
    "        img = spams.displayPatches(D)\n",
    "        print (\"IMG %s\" %str(img.shape))\n",
    "        x = np.uint8(img[:,:,0] * 255.)\n",
    "        image = Image.fromarray(x,mode = 'L')\n",
    "        image.save(\"%s.png\" %imgname)\n",
    "    \n",
    "def _extract_lasso_param(f_param):\n",
    "    lst = [ 'L','lambda1','lambda2','mode','pos','ols','numThreads','length_path','verbose','cholesky']\n",
    "    l_param = {'return_reg_path' : False}\n",
    "    for x in lst:\n",
    "        if x in f_param:\n",
    "            l_param[x] = f_param[x]\n",
    "    return l_param"
   ]
  },
  {
   "cell_type": "code",
   "execution_count": null,
   "metadata": {
    "collapsed": true
   },
   "outputs": [],
   "source": []
  },
  {
   "cell_type": "code",
   "execution_count": 3,
   "metadata": {
    "collapsed": false
   },
   "outputs": [
    {
     "name": "stdout",
     "output_type": "stream",
     "text": [
      "time of computation for Dictionary Learning: 6.935563\n",
      "Evaluating cost function...\n",
      "objective function: 0.332737\n",
      "IMG (46, 46, 1)\n"
     ]
    },
    {
     "name": "stderr",
     "output_type": "stream",
     "text": [
      "/home/robert/anaconda2/lib/python2.7/site-packages/spams.py:424: FutureWarning: comparison to `None` will result in an elementwise object comparison in the future.\n",
      "  if D == None:\n"
     ]
    }
   ],
   "source": [
    "# img_file = '../images/lena512color.tiff'\n",
    "img_file = '../images/boat.png'\n",
    "# img_file = '../images/bossier_gray.jpg'\n",
    "try:\n",
    "    img = Image.open(img_file)\n",
    "    # img = io.imread(\"../images/boat.png\")\n",
    "except:\n",
    "    print (\"Cannot load image %s : skipping test\" %img_file)\n",
    "I = np.array(img) / 255.\n",
    "if I.ndim == 3:\n",
    "    A = np.asfortranarray(I.reshape((I.shape[0],I.shape[1] * I.shape[2])))\n",
    "    rgb = True\n",
    "else:\n",
    "    A = np.asfortranarray(I)\n",
    "    rgb = False\n",
    "\n",
    "m = 8;n = 8;\n",
    "X = spams.im2col_sliding(A,m,n,rgb)\n",
    "\n",
    "X = X - np.tile(np.mean(X,0),(X.shape[0],1))\n",
    "# X = np.asfortranarray(X / np.tile(np.sqrt((X * X).sum(axis=0)),(X.shape[0],1)),dtype = myfloat)\n",
    "X = np.asfortranarray(X / np.tile(np.sqrt((X * X).sum(axis=0)),(X.shape[0],1)),dtype = np.float)\n",
    "# learns a dictionary with 100 elements\n",
    "# param = { 'K' : 100, 'lambda1' : 0.15, 'numThreads' : 4, 'batchsize' : 400, 'iter' : 1000}\n",
    "# learns a dictionary with 25 elements\n",
    "param = { 'K' : 25, 'lambda1' : 0.15, 'numThreads' : 4, 'batchsize' : 400, 'iter' : 1000}\n",
    "\n",
    "########## FIRST EXPERIMENT ###########\n",
    "tic = time.time()\n",
    "D = spams.trainDL(X,**param)\n",
    "tac = time.time()\n",
    "t = tac - tic\n",
    "print ('time of computation for Dictionary Learning: %f' %t)\n",
    "\n",
    "##param['approx'] = 0\n",
    "# save dictionnary as dict.png\n",
    "_objective(X,D,param,'dict')\n",
    "\n"
   ]
  },
  {
   "cell_type": "code",
   "execution_count": 4,
   "metadata": {
    "collapsed": false
   },
   "outputs": [
    {
     "name": "stdout",
     "output_type": "stream",
     "text": [
      "(64, 25) -0.663097089489 0.59154214148 (1, 64)\n",
      "[[ 0.07291457 -0.06568015 -0.14632883 -0.01085078 -0.00874189  0.04716667\n",
      "  -0.32053485 -0.02864838 -0.01923149 -0.06532592  0.05253824 -0.08048772\n",
      "   0.01536218  0.13883747 -0.10002351 -0.00708624  0.0018726  -0.01884344\n",
      "   0.07876243  0.05438721  0.08822394  0.00473019  0.01069189  0.02140369\n",
      "   0.09480031]]\n",
      "(64, 255025) (512, 512)\n"
     ]
    }
   ],
   "source": [
    "junk = I[250:258, 250:258]\n",
    "junk = np.reshape(junk, (1,64))\n",
    "print(D.shape, np.min(D), np.max(D), junk.shape)\n",
    "print(np.dot(junk,D))\n",
    "print(X.shape, I.shape)"
   ]
  },
  {
   "cell_type": "code",
   "execution_count": 5,
   "metadata": {
    "collapsed": false
   },
   "outputs": [
    {
     "name": "stdout",
     "output_type": "stream",
     "text": [
      "*********** SECOND EXPERIMENT ***********\n",
      "time of computation for Dictionary Learning: 3.712178\n",
      "\n",
      "Evaluating cost function...\n",
      "objective function: 0.334309"
     ]
    },
    {
     "name": "stderr",
     "output_type": "stream",
     "text": [
      "/home/robert/.local/lib/python2.7/site-packages/ipykernel/__main__.py:4: DeprecationWarning: using a non-integer number instead of an integer will result in an error in the future\n",
      "/home/robert/.local/lib/python2.7/site-packages/ipykernel/__main__.py:5: DeprecationWarning: using a non-integer number instead of an integer will result in an error in the future\n",
      "/home/robert/anaconda2/lib/python2.7/site-packages/spams.py:1783: FutureWarning: comparison to `None` will result in an elementwise object comparison in the future.\n",
      "  if D == None:\n"
     ]
    },
    {
     "name": "stdout",
     "output_type": "stream",
     "text": [
      "\n",
      "IMG (46, 46, 1)\n",
      "time of computation for Dictionary Learning: 3.462911\n",
      "Evaluating cost function...\n",
      "objective function: 0.333283\n",
      "IMG (46, 46, 1)\n"
     ]
    }
   ],
   "source": [
    "#### SECOND EXPERIMENT ####\n",
    "print (\"*********** SECOND EXPERIMENT ***********\")\n",
    "\n",
    "X1 = X[:,0:X.shape[1]/2]\n",
    "X2 = X[:,X.shape[1]/2 -1:]\n",
    "param['iter'] = 500\n",
    "tic = time.time()\n",
    "(D,model) = spams.trainDL(X1,return_model = True,**param)\n",
    "tac = time.time()\n",
    "t = tac - tic\n",
    "print ('time of computation for Dictionary Learning: %f\\n' %t)\n",
    "\n",
    "_objective(X,D,param,'dict1')\n",
    "\n",
    "# Then reuse the learned model to retrain a few iterations more.\n",
    "param2 = param.copy()\n",
    "param2['D'] = D\n",
    "tic = time.time()\n",
    "(D,model) = spams.trainDL(X2,return_model = True,model = model,**param2)\n",
    "tac = time.time()\n",
    "t = tac - tic\n",
    "print ('time of computation for Dictionary Learning: %f' %t)\n",
    "_objective(X,D,param,'dict2')"
   ]
  },
  {
   "cell_type": "code",
   "execution_count": 6,
   "metadata": {
    "collapsed": false
   },
   "outputs": [
    {
     "name": "stdout",
     "output_type": "stream",
     "text": [
      "(25, 25) (64, 25)\n"
     ]
    }
   ],
   "source": [
    "print(model[\"A\"].shape, model[\"B\"].shape)"
   ]
  },
  {
   "cell_type": "code",
   "execution_count": 7,
   "metadata": {
    "collapsed": false
   },
   "outputs": [],
   "source": [
    "A = spams.omp(X, D, L=5)"
   ]
  },
  {
   "cell_type": "code",
   "execution_count": 8,
   "metadata": {
    "collapsed": false
   },
   "outputs": [
    {
     "name": "stdout",
     "output_type": "stream",
     "text": [
      "<class 'scipy.sparse.csc.csc_matrix'> (25, 255025) 262144 505.0 504\n",
      "  (7, 0)\t0.19128709367\n",
      "  (10, 0)\t-0.457887111016\n",
      "  (11, 0)\t-0.256075024336\n",
      "  (17, 0)\t0.218765907396\n",
      "  (20, 0)\t0.248287319224\n",
      "  (7, 0)\t0.272986225685\n",
      "  (8, 0)\t0.155105171083\n",
      "  (10, 0)\t-0.232644496501\n",
      "  (14, 0)\t-0.206420414999\n",
      "  (17, 0)\t0.16218708504\n",
      "  (0, 0)\t0.47274209002\n",
      "  (8, 0)\t-0.616446086969\n",
      "  (11, 0)\t-0.475666124435\n",
      "  (23, 0)\t-0.207743847494\n",
      "  (24, 0)\t-0.188201586407\n",
      "0: 0.0\n",
      "1: 0.0\n",
      "2: 0.0\n",
      "3: 0.0\n",
      "4: 0.0\n",
      "5: 0.0\n",
      "6: 0.0\n",
      "7: 0.19128709367\n",
      "8: 0.0\n",
      "9: 0.0\n",
      "10: -0.457887111016\n",
      "11: -0.256075024336\n",
      "12: 0.0\n",
      "13: 0.0\n",
      "14: 0.0\n",
      "15: 0.0\n",
      "16: 0.0\n",
      "17: 0.218765907396\n",
      "18: 0.0\n",
      "19: 0.0\n",
      "20: 0.248287319224\n",
      "21: 0.0\n",
      "22: 0.0\n",
      "23: 0.0\n",
      "24: 0.0\n"
     ]
    }
   ],
   "source": [
    "print(type(A), A.shape, 512*512, np.sqrt(A.shape[1]), 512-8)\n",
    "print(A[:,0])\n",
    "print(A[:,1])\n",
    "print(A[:,-1])\n",
    "for i in range(A.shape[0]):\n",
    "    print(str(i) + \":\", A[i,0])"
   ]
  },
  {
   "cell_type": "code",
   "execution_count": 9,
   "metadata": {
    "collapsed": false
   },
   "outputs": [
    {
     "ename": "SyntaxError",
     "evalue": "invalid syntax (<ipython-input-9-a728015ada71>, line 8)",
     "output_type": "error",
     "traceback": [
      "\u001b[1;36m  File \u001b[1;32m\"<ipython-input-9-a728015ada71>\"\u001b[1;36m, line \u001b[1;32m8\u001b[0m\n\u001b[1;33m    print '*********** THIRD EXPERIMENT ***********'\u001b[0m\n\u001b[1;37m                                                   ^\u001b[0m\n\u001b[1;31mSyntaxError\u001b[0m\u001b[1;31m:\u001b[0m invalid syntax\n"
     ]
    }
   ],
   "source": [
    "run_this = False\n",
    "\n",
    "if run_this:\n",
    "\n",
    "    #################### THIRD & FOURTH EXPERIMENT ######################\n",
    "    # let us add sparsity to the dictionary itself\n",
    "\n",
    "    print '*********** THIRD EXPERIMENT ***********'\n",
    "    param['modeParam'] = 0\n",
    "    param['iter'] = 1000\n",
    "    param['gamma1'] = 0.3\n",
    "    param['modeD'] = 1\n",
    "\n",
    "    tic = time.time()\n",
    "    D = spams.trainDL(X,**param)\n",
    "    tac = time.time()\n",
    "    t = tac - tic\n",
    "    print 'time of computation for Dictionary Learning: %f' %t\n",
    "    _objective(X,D,param)\n",
    "\n",
    "    print '*********** FOURTH EXPERIMENT ***********'\n",
    "    param['modeParam'] = 0\n",
    "    param['iter'] = 1000\n",
    "    param['gamma1'] = 0.3\n",
    "    param['modeD'] = 3\n",
    "\n",
    "    tic = time.time()\n",
    "    D = spams.trainDL(X,**param)\n",
    "    tac = time.time()\n",
    "    t = tac - tic\n",
    "    print 'time of computation for Dictionary Learning: %f' %t\n",
    "    _objective(X,D,param)"
   ]
  }
 ],
 "metadata": {
  "kernelspec": {
   "display_name": "Python 2",
   "language": "python",
   "name": "python2"
  },
  "language_info": {
   "codemirror_mode": {
    "name": "ipython",
    "version": 2
   },
   "file_extension": ".py",
   "mimetype": "text/x-python",
   "name": "python",
   "nbconvert_exporter": "python",
   "pygments_lexer": "ipython2",
   "version": "2.7.10"
  }
 },
 "nbformat": 4,
 "nbformat_minor": 0
}
