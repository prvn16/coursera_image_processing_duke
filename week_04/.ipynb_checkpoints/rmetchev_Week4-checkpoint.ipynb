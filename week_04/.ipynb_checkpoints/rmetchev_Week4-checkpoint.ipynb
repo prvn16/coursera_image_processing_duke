{
 "cells": [
  {
   "cell_type": "markdown",
   "metadata": {},
   "source": [
    "# Week 4 demos & optional assignments"
   ]
  },
  {
   "cell_type": "markdown",
   "metadata": {},
   "source": [
    "## Demo - Types of noise"
   ]
  },
  {
   "cell_type": "code",
   "execution_count": null,
   "metadata": {
    "collapsed": false
   },
   "outputs": [],
   "source": [
    "%matplotlib inline\n",
    "\n",
    "import numpy as np\n",
    "import matplotlib.pyplot as plt\n",
    "import matplotlib.image as mpimg\n",
    "import matplotlib.cm as cm\n",
    "import cv2\n",
    "from skimage import img_as_float, img_as_ubyte"
   ]
  },
  {
   "cell_type": "markdown",
   "metadata": {},
   "source": [
    "Read RGB image"
   ]
  },
  {
   "cell_type": "code",
   "execution_count": null,
   "metadata": {
    "collapsed": false
   },
   "outputs": [],
   "source": [
    "RGB = mpimg.imread('saturn.png')\n",
    "imgplt = plt.imshow(RGB)"
   ]
  },
  {
   "cell_type": "markdown",
   "metadata": {},
   "source": [
    "Convert to gray scale"
   ]
  },
  {
   "cell_type": "code",
   "execution_count": null,
   "metadata": {
    "collapsed": false
   },
   "outputs": [],
   "source": [
    "I = cv2.cvtColor(RGB, cv2.COLOR_RGB2GRAY)\n",
    "I = img_as_ubyte(I)\n",
    "imgplt = plt.imshow(I, cmap=cm.Greys_r, vmin=0, vmax=255, interpolation=\"nearest\")\n",
    "#  imgplt = plt.imshow(I, cmap=\"gray\", interpolation=\"nearest\")\n",
    "print(np.min(I), np.max(I))"
   ]
  },
  {
   "cell_type": "markdown",
   "metadata": {},
   "source": [
    "Add Gaussian noise with variance of 0.1 (because 0.02 doesn't show much visible distortion)"
   ]
  },
  {
   "cell_type": "code",
   "execution_count": null,
   "metadata": {
    "collapsed": false
   },
   "outputs": [],
   "source": [
    "# variance = 0.02 * 255  # variance of 0.02\n",
    "variance = 0.1 * 255  # variance of 0.1\n",
    "\n",
    "I2G = np.clip(I + np.random.normal(0, variance, I.shape).astype(np.int), 0, 255) # variance of 0.1\n",
    "imgplt = plt.imshow(I2G, cmap=\"gray\", interpolation=\"nearest\")"
   ]
  },
  {
   "cell_type": "markdown",
   "metadata": {},
   "source": [
    "Write salt & pepper noise function since none is available in numpy"
   ]
  },
  {
   "cell_type": "code",
   "execution_count": null,
   "metadata": {
    "collapsed": false
   },
   "outputs": [],
   "source": [
    "def salt_pepper(img, r=0.1, sp_ratio=0.5):\n",
    "    '''\n",
    "    Function to add random salt & pepper noise\n",
    "    r: noise percentage\n",
    "    sp_ratio: salt to pepper ratio\n",
    "    '''\n",
    "    \n",
    "    # Image dimensions\n",
    "    height, width = img.shape[:2]\n",
    "    n = np.prod(img.shape[:2])\n",
    "\n",
    "    m = int(r * n)             # number of noisy pixels\n",
    "    s = int(sp_ratio * m)     # number of salt pixels\n",
    "\n",
    "    # get m random coordinates\n",
    "    img_noisy = np.copy(img)\n",
    "    for y, x in zip(np.random.randint(0, height, s), np.random.randint(0, width, s)):\n",
    "        img_noisy[y, x] = 255\n",
    "    for y, x in zip(np.random.randint(0, height, m - s), np.random.randint(0, width, m - s)):\n",
    "        img_noisy[y, x] = 0\n",
    "    return img_noisy"
   ]
  },
  {
   "cell_type": "markdown",
   "metadata": {},
   "source": [
    "Add 2% salt & pepper noise"
   ]
  },
  {
   "cell_type": "code",
   "execution_count": null,
   "metadata": {
    "collapsed": false
   },
   "outputs": [],
   "source": [
    "I2 = salt_pepper(I, 0.02)\n",
    "imgplt = plt.imshow(I2, cmap=cm.Greys_r, vmin=0, vmax=255, interpolation=\"nearest\")"
   ]
  },
  {
   "cell_type": "markdown",
   "metadata": {},
   "source": [
    "Add 20% salt & pepper noise"
   ]
  },
  {
   "cell_type": "code",
   "execution_count": null,
   "metadata": {
    "collapsed": false
   },
   "outputs": [],
   "source": [
    "I20 = salt_pepper(I, 0.2)\n",
    "imgplt = plt.imshow(I20, cmap=cm.Greys_r, vmin=0, vmax=255, interpolation=\"nearest\")"
   ]
  },
  {
   "cell_type": "markdown",
   "metadata": {},
   "source": [
    "##Gaussian blur"
   ]
  },
  {
   "cell_type": "code",
   "execution_count": null,
   "metadata": {
    "collapsed": false
   },
   "outputs": [],
   "source": [
    "# Create image with Delta function\n",
    "# A = np.zeros((32,32), dtype=np.uint8)\n",
    "# A[16,16] = 255\n",
    "A = np.zeros((31,31), dtype=np.uint8)\n",
    "A[15,15] = 255\n",
    "\n",
    "imgplt = plt.imshow(A, cmap=cm.Greys_r, vmin=0, vmax=255, interpolation=\"nearest\")"
   ]
  },
  {
   "cell_type": "markdown",
   "metadata": {},
   "source": [
    "###5x5 kernel and sigma=3\n",
    "OpenCV: http://docs.opencv.org/2.4/modules/imgproc/doc/filtering.html#gaussianblur"
   ]
  },
  {
   "cell_type": "code",
   "execution_count": null,
   "metadata": {
    "collapsed": false
   },
   "outputs": [],
   "source": [
    "# Kernel spec\n",
    "k = 5\n",
    "sigma = 3\n",
    "\n",
    "B0 = cv2.GaussianBlur(A, ksize=(k, k), sigmaX=sigma)\n",
    "\n",
    "#imgplt = plt.imshow(blur, cmap=cm.Greys_r, vmin=0, vmax=255, interpolation=\"nearest\")\n",
    "imgplt = plt.imshow(B0, cmap=cm.Greys_r, interpolation=\"nearest\")"
   ]
  },
  {
   "cell_type": "markdown",
   "metadata": {},
   "source": [
    "SciPy: http://docs.scipy.org/doc/scipy-0.15.1/reference/generated/scipy.ndimage.filters.gaussian_filter.html"
   ]
  },
  {
   "cell_type": "code",
   "execution_count": null,
   "metadata": {
    "collapsed": false
   },
   "outputs": [],
   "source": [
    "from scipy.ndimage import filters as fltrs\n",
    "\n",
    "t = float(k//2)/sigma\n",
    "B1 = fltrs.gaussian_filter(A, sigma=sigma, truncate=t)\n",
    "\n",
    "imgplt = plt.imshow(B1, cmap=cm.Greys_r, interpolation=\"nearest\")"
   ]
  },
  {
   "cell_type": "markdown",
   "metadata": {},
   "source": [
    "Compare the 2 Gaussian blur filters with PSNR"
   ]
  },
  {
   "cell_type": "code",
   "execution_count": null,
   "metadata": {
    "collapsed": true
   },
   "outputs": [],
   "source": [
    "# PSNR for image quality comparison\n",
    "def psnr(i0, i1):\n",
    "    mse = np.mean(np.square(i0 - i1))\n",
    "    if mse == 0:  # prevent errors with log(0)\n",
    "        mse = np.finfo(float).eps\n",
    "    return np.round(20 * np.log10(255) - 10*np.log10(mse), 2)"
   ]
  },
  {
   "cell_type": "code",
   "execution_count": null,
   "metadata": {
    "collapsed": false
   },
   "outputs": [],
   "source": [
    "print(psnr(B0, B1))"
   ]
  },
  {
   "cell_type": "markdown",
   "metadata": {},
   "source": [
    "Histogram  "
   ]
  },
  {
   "cell_type": "code",
   "execution_count": null,
   "metadata": {
    "collapsed": false
   },
   "outputs": [],
   "source": [
    "hplt = plt.hist(B0, bins=1+np.max(B0), range=(0, np.max(B0)))\n",
    "\n",
    "#hist, bins = np.histogram(B0, bins=1+np.max(B0), range=(0, np.max(B0)), density=True)\n",
    "#imgplt = plt.plot(bins[:-1], hist)"
   ]
  },
  {
   "cell_type": "markdown",
   "metadata": {},
   "source": [
    "##Modelling motion blur\n",
    "Approach:\n",
    "- Create filter kernel\n",
    "- Apply cv2.filter2D() http://docs.opencv.org/2.4/modules/imgproc/doc/filtering.html#filter2d"
   ]
  },
  {
   "cell_type": "code",
   "execution_count": null,
   "metadata": {
    "collapsed": false
   },
   "outputs": [],
   "source": [
    "# Saturn\n",
    "imgplt = plt.imshow(I, cmap=cm.Greys_r, vmin=0, vmax=255, interpolation=\"nearest\")"
   ]
  },
  {
   "cell_type": "code",
   "execution_count": null,
   "metadata": {
    "collapsed": true
   },
   "outputs": [],
   "source": [
    "# generating the kernel\n",
    "def motion_kernel(k):\n",
    "    kernel = np.zeros((k, k))\n",
    "    # kernel[k//2, :] = np.ones(k) # horizontal movement\n",
    "    # kernel = np.ones((k, k))\n",
    "\n",
    "    np.fill_diagonal(kernel, 1) # diagonal movement\n",
    "    kernel = kernel[::-1] # flip axis\n",
    "\n",
    "    kernel /= kernel.sum()\n",
    "    return kernel"
   ]
  },
  {
   "cell_type": "code",
   "execution_count": null,
   "metadata": {
    "collapsed": true
   },
   "outputs": [],
   "source": [
    "# Add noise\n",
    "def add_noise(i, sigma):\n",
    "    return np.clip(i + np.random.normal(0, sigma, i.shape).astype(np.int), 0, 255).astype(np.uint8)"
   ]
  },
  {
   "cell_type": "code",
   "execution_count": null,
   "metadata": {
    "collapsed": false
   },
   "outputs": [],
   "source": [
    "# applying the kernel to the input image\n",
    "k = 49 \n",
    "m = cv2.filter2D(I, -1, motion_kernel(k))\n",
    "\n",
    "# Add noise\n",
    "variance = 0.15 * 255 \n",
    "g = add_noise(m, variance) # variance of 0.1\n",
    "\n",
    "imgplt = plt.imshow(m, cmap=cm.Greys_r, vmin=0, vmax=255, interpolation=\"nearest\")"
   ]
  },
  {
   "cell_type": "markdown",
   "metadata": {},
   "source": [
    "\n",
    "##Fun with Wiener filtering\n",
    "Create Wiener filter based on motion blur filter\n",
    "\n",
    "Use original Lena"
   ]
  },
  {
   "cell_type": "code",
   "execution_count": null,
   "metadata": {
    "collapsed": false
   },
   "outputs": [],
   "source": [
    "from numpy.fft import fft2\n",
    "from numpy.fft import ifft2\n",
    "\n",
    "# Lena original 512x512\n",
    "img = cv2.imread('../lena512color.tiff', cv2.IMREAD_GRAYSCALE)\n",
    "\n",
    "# create Kernel\n",
    "h =  motion_kernel(31)\n",
    "\n",
    "# apply kernel\n",
    "m = cv2.filter2D(img, -1, h)\n",
    "\n",
    "# add noise\n",
    "variance = 0.0005 * 255 \n",
    "g = add_noise(m, variance) # variance of 0.1"
   ]
  },
  {
   "cell_type": "markdown",
   "metadata": {},
   "source": [
    "Implement Wiener filter"
   ]
  },
  {
   "cell_type": "code",
   "execution_count": null,
   "metadata": {
    "collapsed": false
   },
   "outputs": [],
   "source": [
    "def wiener(h, k, g):\n",
    "    # FFT of observed distorted signal\n",
    "    g_fft = fft2(g)\n",
    "\n",
    "    # Add padding to motion model\n",
    "    h_pad = np.zeros_like(g).astype(np.float)\n",
    "    h_pad[:h.shape[0],:h.shape[1]] = h   \n",
    "    \n",
    "    # FFT of motion model\n",
    "    h_fft = fft2(h_pad)\n",
    "\n",
    "    # Wiener filter\n",
    "    w_fft = np.conjugate(h_fft)/((np.conjugate(h_fft) * h_fft) + k)\n",
    "\n",
    "    # apply\n",
    "    f_fft = g_fft * w_fft\n",
    "\n",
    "    # IFFT yields reconstructed image\n",
    "    f = np.abs(ifft2(f_fft)) #.astype(np.uint8)\n",
    "    return f"
   ]
  },
  {
   "cell_type": "code",
   "execution_count": null,
   "metadata": {
    "collapsed": false
   },
   "outputs": [],
   "source": [
    "h_pad = np.zeros_like(g).astype(np.float)\n",
    "h_pad[:h.shape[0],:h.shape[1]] = h \n",
    "h_fft = fft2(h_pad)\n",
    "# imgplt = plt.imshow(h_fft, cmap=cm.Greys_r, vmin=0, vmax=255, interpolation=\"nearest\")\n",
    "imgplt = plt.imshow(h_fft.real, cmap=cm.Greys_r, interpolation=\"nearest\")\n"
   ]
  },
  {
   "cell_type": "markdown",
   "metadata": {},
   "source": [
    "Apply Wiener filter"
   ]
  },
  {
   "cell_type": "code",
   "execution_count": null,
   "metadata": {
    "collapsed": false
   },
   "outputs": [],
   "source": [
    "# iterate over various values of k\n",
    "k = [0.001, 0.005, 0.01, 0.015, 0.02, 0.045, 0.1, 0.5] # k=0.015 is best\n",
    "f = [wiener(h, i, g) for i in k]\n",
    "\n"
   ]
  },
  {
   "cell_type": "code",
   "execution_count": null,
   "metadata": {
    "collapsed": false
   },
   "outputs": [],
   "source": [
    "# plot all\n",
    "fig, ax = plt.subplots(3,4)\n",
    "fig.set_size_inches(20, 20)\n",
    "\n",
    "ax[0,0].set_title('Original Image')\n",
    "ax[0,0].imshow(img[200:320,200:320], cmap=cm.Greys_r, vmin=0, vmax=255, interpolation=\"nearest\")\n",
    "\n",
    "ax[0,1].set_title('Motion model')\n",
    "ax[0,1].imshow(h, cmap=cm.Greys_r, interpolation=\"nearest\")\n",
    "\n",
    "ax[0,2].set_title('Motion, PSNR=' + str(psnr(img, m)))\n",
    "ax[0,2].imshow(m[200:320,200:320], cmap=cm.Greys_r, vmin=0, vmax=255, interpolation=\"nearest\")\n",
    "\n",
    "ax[0,3].set_title('Motion + noise, PSNR=' + str(psnr(img, g)))\n",
    "ax[0,3].imshow(g[200:320,200:320], cmap=cm.Greys_r, vmin=0, vmax=255, interpolation=\"nearest\")\n",
    "\n",
    "for i in range(4):\n",
    "    for j in range(2):\n",
    "        p = i + 4*j\n",
    "        ax[1+j,i].set_title('k='+ str(k[p]) + ', PSNR=' + str(psnr(img, f[p])))\n",
    "        ax[1+j,i].imshow(f[p][200:320,200:320], cmap=cm.Greys_r, vmin=0, vmax=255, interpolation=\"nearest\")\n",
    "        #ax[1+j,i].imshow(f[p][200:320,200:320], cmap=cm.Greys_r, interpolation=\"nearest\")"
   ]
  },
  {
   "cell_type": "markdown",
   "metadata": {},
   "source": [
    "### Wiener Filtering with SciPy\n",
    "- Matlab's wiener2() removes Gaussian noise http://www.mathworks.com/help/images/ref/wiener2.html\n",
    "- SciPy http://docs.scipy.org/doc/scipy-0.14.0/reference/generated/scipy.signal.wiener.html"
   ]
  },
  {
   "cell_type": "code",
   "execution_count": null,
   "metadata": {
    "collapsed": false
   },
   "outputs": [],
   "source": [
    "variance = 0.1 * 255\n",
    "\n",
    "J = np.clip(I + np.random.normal(0, variance, I.shape).astype(np.int), 0, 255)\n",
    "\n",
    "imgplt = plt.imshow(J, cmap=cm.Greys_r, vmin=0, vmax=255, interpolation=\"nearest\")\n",
    "print 'PSNR after adding Gaussian noise:', psnr(I, J)"
   ]
  },
  {
   "cell_type": "code",
   "execution_count": null,
   "metadata": {
    "collapsed": false
   },
   "outputs": [],
   "source": [
    "from scipy import signal as sgnl\n",
    "K =  sgnl.wiener(J, mysize=(10,10))\n",
    "\n",
    "imgplt = plt.imshow(K, cmap=cm.Greys_r, vmin=0, vmax=255, interpolation=\"nearest\")\n",
    "print 'PSNR after Wiener filtering:', psnr(I, K)"
   ]
  },
  {
   "cell_type": "markdown",
   "metadata": {},
   "source": [
    "## Image registration\n",
    "- http://www.mathworks.com/help/images/ref/imregister.html\n",
    "- http://www.ri.cmu.edu/research_project_detail.html?project_id=515&menu_id=261\n",
    "- http://en.wikipedia.org/wiki/Image_registration\n",
    "- https://github.com/pyimreg/imreg"
   ]
  },
  {
   "cell_type": "markdown",
   "metadata": {},
   "source": [
    "##JPEG\n",
    "Apply JPEG compression to an image, with high levels of compression such that the artifacts are noticeable. Can you apply any of the techniques learned so far to enhance the image, for example, reduce the artifacts or the blocking effects? Try as many techniques as you can and have time to do."
   ]
  },
  {
   "cell_type": "code",
   "execution_count": null,
   "metadata": {
    "collapsed": false
   },
   "outputs": [],
   "source": [
    "# Create image with low quality JPEG quantization artefacts from Lena original\n",
    "img = cv2.imread('../lena512color.tiff', cv2.IMREAD_GRAYSCALE)\n",
    "\n",
    "# write out low quality JPEG\n",
    "cv2.imwrite('lena_compressed.jpg', img, [cv2.IMWRITE_JPEG_QUALITY , 10])\n",
    "\n",
    "# read back\n",
    "img_jpeg = cv2.imread('lena_compressed.jpg', cv2.IMREAD_UNCHANGED)  # cv2.IMREAD_UNCHANGE\n",
    "\n",
    "# apply averaging filter\n",
    "k = 3\n",
    "kernel = np.ones((k,k))/(k*k)\n",
    "img_jpeg_average = cv2.filter2D(img_jpeg, -1, kernel)\n",
    "\n",
    "# apply median filer\n",
    "k = 3\n",
    "img_jpeg_median = cv2.medianBlur(img_jpeg, k)\n",
    "\n",
    "# apply non-local means\n",
    "from skimage.restoration import nl_means_denoising\n",
    "k = 3\n",
    "h = 0.05 * 255\n",
    "img_jpeg_nl = nl_means_denoising(img_jpeg, patch_size=k, patch_distance=11, h=h, fast_mode=True)\n",
    "\n",
    "# apply gaussian blur\n",
    "k = 3\n",
    "sigma = 1\n",
    "img_jpeg_gaussian = cv2.GaussianBlur(img_jpeg, ksize=(k, k), sigmaX=sigma)"
   ]
  },
  {
   "cell_type": "code",
   "execution_count": null,
   "metadata": {
    "collapsed": false
   },
   "outputs": [],
   "source": [
    "# plot all\n",
    "fig, ax = plt.subplots(3,2)\n",
    "fig.set_size_inches(20, 20)\n",
    "\n",
    "ax[0,0].set_title('Original Image')\n",
    "ax[0,0].imshow(img[232:296,232:296], cmap=cm.Greys_r, vmin=0, vmax=255, interpolation=\"nearest\")\n",
    "\n",
    "ax[0,1].set_title('JPEG quantization artefacts, PSNR=' + str(psnr(img,img_jpeg)))\n",
    "ax[0,1].imshow(img_jpeg[232:296,232:296], cmap=cm.Greys_r, vmin=0, vmax=255, interpolation=\"nearest\")\n",
    "\n",
    "ax[1,0].set_title('Averaging filter, PSNR=' + str(psnr(img,img_jpeg_average)))\n",
    "ax[1,0].imshow(img_jpeg_average[232:296,232:296], cmap=cm.Greys_r, vmin=0, vmax=255, interpolation=\"nearest\")\n",
    "\n",
    "ax[1,1].set_title('Median filrer, PSNR=' + str(psnr(img,img_jpeg_median)))\n",
    "ax[1,1].imshow(img_jpeg_median[232:296,232:296], cmap=cm.Greys_r, vmin=0, vmax=255, interpolation=\"nearest\")\n",
    "\n",
    "ax[2,0].set_title('Non-local means, PSNR=' + str(psnr(img,img_jpeg_nl)))\n",
    "ax[2,0].imshow(img_jpeg_nl[232:296,232:296], cmap=cm.Greys_r, vmin=0, vmax=255, interpolation=\"nearest\")\n",
    "\n",
    "ax[2,1].set_title('Gaussian blur, PSNR=' + str(psnr(img,img_jpeg_gaussian)))\n",
    "ax[2,1].imshow(img_jpeg_gaussian[232:296,232:296], cmap=cm.Greys_r, vmin=0, vmax=255, interpolation=\"nearest\")"
   ]
  },
  {
   "cell_type": "markdown",
   "metadata": {},
   "source": [
    "##Prediction Error Distribution\n",
    "Apply any image predictor as those we learned in Week 2. Plot the histogram of the prediction error. Try to fit a function to it to learn what type of distribution best first the prediction error.\n",
    "\n",
    "Using 3-cell top/left/top-left prediction."
   ]
  },
  {
   "cell_type": "code",
   "execution_count": null,
   "metadata": {
    "collapsed": false
   },
   "outputs": [],
   "source": [
    "pred = np.full_like(img, 128, dtype=np.int)  # using average value. could also use np.mean(img).astype(np.int)\n",
    "\n",
    "pred[:, 1:] = 2 * img[:, 0:-1].astype(np.int)\n",
    "pred[1:, :] += 2 * img[0:-1, :].astype(np.int)\n",
    "pred[1:, 1:] += img[0:-1, 0:-1].astype(np.int)\n",
    "pred /= 5\n",
    "print(np.max(pred))\n",
    "error = img - pred\n",
    "\n",
    "imgplt = plt.imshow(error[232:296,232:296], cmap=cm.Greys_r, interpolation=\"nearest\")\n",
    "#imgplt = plt.imshow(error[232:296,232:296], cmap=cm.Greys_r, vmin=-256, vmax=255, interpolation=\"nearest\")\n",
    "#imgplt = plt.imshow(error, cmap=cm.Greys_r, vmin=-256, vmax=255, interpolation=\"nearest\")\n",
    "#imgplt = plt.imshow(error, cmap=cm.Greys_r, interpolation=\"nearest\")"
   ]
  },
  {
   "cell_type": "markdown",
   "metadata": {},
   "source": [
    "Histogram"
   ]
  },
  {
   "cell_type": "code",
   "execution_count": null,
   "metadata": {
    "collapsed": false
   },
   "outputs": [],
   "source": [
    "hist, bins = np.histogram(error, bins=512, range=(-256, 256), density=True)\n",
    "\n",
    "imgplt = plt.plot(bins[:-1], hist)"
   ]
  },
  {
   "cell_type": "markdown",
   "metadata": {},
   "source": [
    "Entropy"
   ]
  },
  {
   "cell_type": "code",
   "execution_count": null,
   "metadata": {
    "collapsed": false
   },
   "outputs": [],
   "source": [
    "entropy = np.round(-np.sum(hist[hist > 0] * np.log2(hist[hist > 0])), 2)\n",
    "print 'H =', entropy"
   ]
  },
  {
   "cell_type": "markdown",
   "metadata": {},
   "source": [
    "Better angle at histogram"
   ]
  },
  {
   "cell_type": "code",
   "execution_count": null,
   "metadata": {
    "collapsed": false
   },
   "outputs": [],
   "source": [
    "# Better angle\n",
    "m =  np.max((np.max(error), np.abs(np.min(error))))\n",
    "m = 12\n",
    "r = 255 - m\n",
    "\n",
    "# try to match with exponential PDF\n",
    "a = 1.5 * np.max(hist)\n",
    "c = 0  # -0.04 # add constant?\n",
    "exp_pdf = a * np.exp(-a * np.abs(bins[:-1])) + c\n",
    "\n",
    "# try to match with gaussian - fits better\n",
    "s = 3.5\n",
    "a = 0.1\n",
    "gaussian = a * sgnl.gaussian(513, s)\n",
    "\n",
    "bins.size\n",
    "imgplt = plt.plot(bins[r:-r-1], hist[r:-r], 'b', bins[r:-r-1], exp_pdf[r:-r], 'g', bins[r:-r-1], gaussian[r:-r-1], 'm')"
   ]
  },
  {
   "cell_type": "code",
   "execution_count": null,
   "metadata": {
    "collapsed": false
   },
   "outputs": [],
   "source": []
  }
 ],
 "metadata": {
  "kernelspec": {
   "display_name": "Python 2",
   "language": "python",
   "name": "python2"
  },
  "language_info": {
   "codemirror_mode": {
    "name": "ipython",
    "version": 2
   },
   "file_extension": ".py",
   "mimetype": "text/x-python",
   "name": "python",
   "nbconvert_exporter": "python",
   "pygments_lexer": "ipython2",
   "version": "2.7.11"
  }
 },
 "nbformat": 4,
 "nbformat_minor": 0
}
