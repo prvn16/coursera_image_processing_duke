{
 "cells": [
  {
   "cell_type": "code",
   "execution_count": null,
   "metadata": {
    "collapsed": true
   },
   "outputs": [],
   "source": [
    "%matplotlib inline\n",
    "from scipy import signal\n",
    "\n",
    "import matplotlib.pyplot as plt\n",
    "import numpy as np\n",
    "\n",
    "import skimage\n",
    "from skimage import img_as_float, img_as_ubyte\n",
    "from skimage import io"
   ]
  },
  {
   "cell_type": "markdown",
   "metadata": {},
   "source": [
    "$$\n",
    "I1_{max} = M \\\\\n",
    "I1_{min} = m \\\\\n",
    "I2_{max} = L \\\\\n",
    "I2_{1min} = 0 \\\\\n",
    "I2 = L (I1 - m) / (M-m)\n",
    "$$"
   ]
  },
  {
   "cell_type": "markdown",
   "metadata": {},
   "source": [
    "Given an image with only 2 pixels and 3 possible values for each one. Determine the number of possible different images and the number of possible different histograms\n",
    "\n",
    "pixels 00 01 10 11 02 20 22 12 21\n",
    "histograms 00 01 11 02 22 21"
   ]
  },
  {
   "cell_type": "code",
   "execution_count": null,
   "metadata": {
    "collapsed": false
   },
   "outputs": [],
   "source": [
    "# Which integer x number minimizes ∑i=99i=1|x−i| ?\n",
    "np.ceil(99/2.0)"
   ]
  },
  {
   "cell_type": "code",
   "execution_count": null,
   "metadata": {
    "collapsed": false
   },
   "outputs": [],
   "source": [
    "# Which integer x number minimizes ∑i=3i=1|x−i|2 ?\n",
    "X = np.array([1,2,3,4])\n",
    "i = np.array([1,2,3])\n",
    "for x in X:\n",
    "    print x, np.sum(np.abs(x - i)**2)"
   ]
  },
  {
   "cell_type": "code",
   "execution_count": null,
   "metadata": {
    "collapsed": false
   },
   "outputs": [],
   "source": [
    "img = io.imread(\"almonds.jpeg\")\n",
    "img = img[:,:,1]\n",
    "img = img_as_float(img)\n",
    "plt.imshow(img, cmap=\"gray\")"
   ]
  },
  {
   "cell_type": "code",
   "execution_count": null,
   "metadata": {
    "collapsed": false
   },
   "outputs": [],
   "source": [
    "# sig = np.repeat([0., 1., 0.], 100)\n",
    "win = np.array([[0,1,0],[1,-4,1],[0,1,0]])\n",
    "filtered = signal.convolve(img, win, mode='same') # / sum(win)"
   ]
  },
  {
   "cell_type": "code",
   "execution_count": null,
   "metadata": {
    "collapsed": false
   },
   "outputs": [],
   "source": [
    "print np.max(filtered), np.min(filtered)"
   ]
  },
  {
   "cell_type": "code",
   "execution_count": null,
   "metadata": {
    "collapsed": false
   },
   "outputs": [],
   "source": [
    "filtered = (filtered - np.min(filtered) )  / (np.max(filtered) - np.min(filtered))\n",
    "print np.max(filtered), np.min(filtered)"
   ]
  },
  {
   "cell_type": "code",
   "execution_count": null,
   "metadata": {
    "collapsed": false
   },
   "outputs": [],
   "source": [
    "plt.imshow(filtered, cmap=\"gray\")"
   ]
  },
  {
   "cell_type": "code",
   "execution_count": null,
   "metadata": {
    "collapsed": false
   },
   "outputs": [],
   "source": [
    "f2 = np.zeros_like(filtered)\n",
    "mask = filtered > 0.625\n",
    "f2[mask] = 1\n",
    "plt.imshow(f2, cmap=\"gray\")"
   ]
  }
 ],
 "metadata": {
  "kernelspec": {
   "display_name": "Python 2",
   "language": "python",
   "name": "python2"
  },
  "language_info": {
   "codemirror_mode": {
    "name": "ipython",
    "version": 2
   },
   "file_extension": ".py",
   "mimetype": "text/x-python",
   "name": "python",
   "nbconvert_exporter": "python",
   "pygments_lexer": "ipython2",
   "version": "2.7.11"
  }
 },
 "nbformat": 4,
 "nbformat_minor": 0
}
