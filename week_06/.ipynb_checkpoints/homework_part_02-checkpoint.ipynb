{
 "cells": [
  {
   "cell_type": "markdown",
   "metadata": {},
   "source": [
    "## Week 6 Part 2\n",
    "\n",
    "**Part 1** Use the level-sets method to implement constant motion. Consider simply an image as the embedding function and deform it according to the corresponding equation, It=|∇I|. Implement also It=−|∇I|. Observe the result of both cases for different evolution intervals. \n",
    "\n",
    "**Part 2** Repeat the above exercise but now for each level set moving according to curvature motion. \n",
    "\n",
    "*Note, key parts of the code adapted from https://github.com/burakbayramli/classnotes/tree/master/pde/pde_level.  Thanks to the tip from Robert Metchev.*"
   ]
  },
  {
   "cell_type": "code",
   "execution_count": null,
   "metadata": {
    "collapsed": true
   },
   "outputs": [],
   "source": [
    "from __future__ import division, print_function\n",
    "\n",
    "import numpy as np\n",
    "from matplotlib import pyplot as plt\n",
    "import time\n",
    "\n",
    "from skimage import img_as_float\n",
    "from skimage import io\n",
    "from skimage.color import rgb2gray\n",
    "\n",
    "%matplotlib inline"
   ]
  },
  {
   "cell_type": "code",
   "execution_count": null,
   "metadata": {
    "collapsed": true
   },
   "outputs": [],
   "source": [
    "# Plotting functions\n",
    "\n",
    "def plot_1xc(imgs_list, titles_list, save_file=None):\n",
    "    cols = len(imgs_list)\n",
    "    i = 0\n",
    "    \n",
    "    fig, axes = plt.subplots(nrows=1, ncols=cols, figsize=(15,15))\n",
    "    for c in range(cols):\n",
    "        axes[c].imshow(imgs_list[i], cmap=\"gray\")\n",
    "        axes[c].set_title(titles_list[i], size=20)\n",
    "        axes[c].set_xticks([])\n",
    "        axes[c].set_yticks([])\n",
    "        i = i + 1\n",
    "    plt.tight_layout();\n",
    "    \n",
    "    if not (save_file == None):\n",
    "        filename = time.strftime(\"%Y%m%d_%H%M\") + \"_\" + save_file + \".png\"\n",
    "        fig.savefig(filename, bbox_inches='tight')\n",
    "        \n",
    "def plot_rxc(imgs_list, titles_list, ncol=3, save_file=None):\n",
    "    cols = ncol\n",
    "    rows = np.ceil(len(imgs_list)/cols).astype(int)\n",
    "    if rows==1:\n",
    "        plot_1xc(imgs_list, titles_list, save_file)\n",
    "    else:\n",
    "        i = 0\n",
    "    \n",
    "        fig, axes = plt.subplots(nrows=rows, ncols=cols, figsize=(15,15*rows/cols))\n",
    "        for r in range(rows):\n",
    "            for c in range(cols):\n",
    "                if i < len(imgs_list):\n",
    "                    axes[r,c].imshow(imgs_list[i], cmap=\"gray\")\n",
    "                    axes[r,c].set_title(titles_list[i], size=20)\n",
    "                    axes[r,c].set_xticks([])\n",
    "                    axes[r,c].set_yticks([])\n",
    "                i = i + 1\n",
    "        plt.tight_layout();\n",
    "    \n",
    "        if not (save_file == None):\n",
    "            filename = time.strftime(\"%Y%m%d_%H%M\") + \"_\" + save_file + \".png\"\n",
    "            fig.savefig(filename, bbox_inches='tight')"
   ]
  },
  {
   "cell_type": "code",
   "execution_count": null,
   "metadata": {
    "collapsed": false
   },
   "outputs": [],
   "source": [
    "O = io.imread(\"../images/ellipse_100.png\")\n",
    "O = img_as_float(O)\n",
    "I = rgb2gray(O)"
   ]
  },
  {
   "cell_type": "code",
   "execution_count": null,
   "metadata": {
    "collapsed": false,
    "scrolled": false
   },
   "outputs": [],
   "source": [
    "def dphi_dt(phi):\n",
    "    # Gradient.  Note reversed 'x' and 'y'.\n",
    "    # gradx, grady = np.gradient(phi) # Doesn't work.\n",
    "    grady, gradx = np.gradient(phi)\n",
    "    gradm = np.sqrt(gradx**2 + grady**2)\n",
    "\n",
    "    # Norm.\n",
    "    normx = gradx/(gradm + (gradm==0))\n",
    "    normy = grady/(gradm + (gradm==0))\n",
    "    \n",
    "    # Div.  Note 'x' and 'y' reversed again.\n",
    "    junk, divxx = np.gradient(normx)\n",
    "    divyy, junk = np.gradient(normy)\n",
    "\n",
    "    # Curvature.\n",
    "    kappa = divxx + divyy\n",
    "    \n",
    "    return kappa * gradm\n",
    "\n",
    "ims = []\n",
    "titles = []\n",
    "\n",
    "phi_old = I.copy()\n",
    "ims.append(phi_old)\n",
    "titles.append(\"Original\")\n",
    "\n",
    "for i in range(401):\n",
    "    phi_new = phi_old + dphi_dt(phi_old)\n",
    "    if i % 100 == 0:\n",
    "        ims.append(phi_new)\n",
    "        titles.append(\"Iteration \" + str(i))\n",
    "    phi_old = phi_new\n",
    "\n",
    "plot_rxc(ims, titles, save_file=\"curvature_motion\")"
   ]
  },
  {
   "cell_type": "code",
   "execution_count": null,
   "metadata": {
    "collapsed": true
   },
   "outputs": [],
   "source": []
  }
 ],
 "metadata": {
  "kernelspec": {
   "display_name": "Python 2",
   "language": "python",
   "name": "python2"
  },
  "language_info": {
   "codemirror_mode": {
    "name": "ipython",
    "version": 2
   },
   "file_extension": ".py",
   "mimetype": "text/x-python",
   "name": "python",
   "nbconvert_exporter": "python",
   "pygments_lexer": "ipython2",
   "version": "2.7.11"
  }
 },
 "nbformat": 4,
 "nbformat_minor": 0
}
