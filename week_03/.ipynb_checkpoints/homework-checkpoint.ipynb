{
 "cells": [
  {
   "cell_type": "markdown",
   "metadata": {},
   "source": [
    "Question 11\n",
    "(Optional programming exercises)\n",
    "\n",
    "    Implement a histogram equalization function. If using Matlab, compare your implementation with Matlab’s built-in function.\n",
    "    Implement a median filter. Add different levels and types of noise to an image and experiment with different sizes of support for the median filter. As before, compare your implementation with Matlab’s.\n",
    "    Implement the non-local means algorithm. Try different window sizes. Add different levels of noise and see the influence of it in the need for larger or smaller neighborhoods. (Such block operations are easy when using Matlab, see for example the function at http://www.mathworks.com/help/images/ref/blockproc.html). Compare your results with those available in IPOL as demonstrated in the video lectures. http://www.ipol.im/pub/art/2011/bcm_nlm/\n",
    "    Consider an image and add to it random noise. Repeat this N times, for different values of N, and add the resulting images. What do you observe?\n",
    "    Implement the basic color edge detector. What happens when the 3 channels are equal?\n",
    "    Take a video and do frame-by-frame histogram equalization and run the resulting video. Now consider a group of frames as a large image and do histogram equalization for all of them at once. What looks better? See this example on how to read and handle videos in Matlab:\n",
    "\n",
    "    xyloObj = VideoReader('xylophone.mp4');\n",
    "\n",
    "    nFrames = xyloObj.NumberOfFrames;\n",
    "    vidHeight = xyloObj.Height;\n",
    "    vidWidth = xyloObj.Width;\n",
    "\n",
    "    % Preallocate movie structure.\n",
    "    mov(1:nFrames) = struct('cdata', zeros(vidHeight, vidWidth, 3, 'uint8'), 'colormap', []);\n",
    "\n",
    "    % Read one frame at a time.\n",
    "    for k = 1 : nFrames\n",
    "        im = read(xyloObj, k);\n",
    "\n",
    "        % here we process the image im\n",
    "\n",
    "        mov(k).cdata = im;\n",
    "    end\n",
    "\n",
    "    % Size a figure based on the video's width and height.\n",
    "    hf = figure;\n",
    "    set(hf, 'position', [150 150 vidWidth vidHeight])\n",
    "\n",
    "    % Play back the movie once at the video's frame rate.\n",
    "    movie(hf, mov, 1, xyloObj.FrameRate);\n",
    "\n",
    "\n",
    "    Take a video and do frame-by-frame non-local means denoising. Repeat but now using a group of frames as a large image. This allows you for example to find more matching blocks (since you are searching across frames). Compare the results. What happens if now you use 3D spatio-temporal blocks, e.g., 5×5×3 blocks and consider the group of frames as a 3D image? Try this and compare with previous results.\n",
    "    Search for “camouflage artist liu bolin.” Do you think you can use the tools you are learning to detect him?\n"
   ]
  },
  {
   "cell_type": "markdown",
   "metadata": {},
   "source": [
    "## Part 1\n",
    "\n",
    "Implement a histogram equalization function. If using Matlab, compare your implementation with Matlab’s built-in function.\n",
    "    "
   ]
  },
  {
   "cell_type": "code",
   "execution_count": null,
   "metadata": {
    "collapsed": true
   },
   "outputs": [],
   "source": [
    "from __future__ import division, print_function\n",
    "\n",
    "import skimage\n",
    "import numpy as np\n",
    "from matplotlib import pyplot as plt\n",
    "from skimage import img_as_float, img_as_ubyte\n",
    "from skimage import io\n",
    "\n",
    "%matplotlib inline"
   ]
  },
  {
   "cell_type": "code",
   "execution_count": null,
   "metadata": {
    "collapsed": false
   },
   "outputs": [],
   "source": [
    "img = io.imread(\"almonds.jpeg\")\n",
    "img = img[:,:,1]\n",
    "# img = img_as_float(img)\n",
    "# plt.imshow(img, cmap=\"gray\")\n",
    "\n",
    "img2 = img_as_ubyte(img_as_float(img)**3.0) # darken the image\n",
    "\n",
    "fig, axes = plt.subplots(nrows=1, ncols=2, figsize=(10,10))\n",
    "axes[0].imshow(img, cmap=\"gray\")\n",
    "axes[1].imshow(img2, cmap=\"gray\")\n",
    "plt.tight_layout()\n"
   ]
  },
  {
   "cell_type": "code",
   "execution_count": null,
   "metadata": {
    "collapsed": false
   },
   "outputs": [],
   "source": [
    "# histogram equalization\n",
    "vals, counts = np.unique(img2, return_counts=True)\n",
    "new_vals = (255*np.cumsum(counts)/np.sum(counts)).astype(int)\n",
    "lut = dict(zip(vals, new_vals))\n",
    "\n",
    "img3 = np.zeros_like(img2)\n",
    "rows = img2.shape[0]\n",
    "cols = img2.shape[1]\n",
    "\n",
    "for r in range(rows):\n",
    "    for c in range(cols):\n",
    "        img3[r,c] = lut[img2[r,c]]\n",
    "   \n"
   ]
  },
  {
   "cell_type": "code",
   "execution_count": null,
   "metadata": {
    "collapsed": true
   },
   "outputs": [],
   "source": [
    "from skimage import exposure\n",
    "img_eq = img_as_ubyte(exposure.equalize_hist(img2))"
   ]
  },
  {
   "cell_type": "code",
   "execution_count": null,
   "metadata": {
    "collapsed": false
   },
   "outputs": [],
   "source": [
    "fig, axes = plt.subplots(nrows=2, ncols=4, figsize=(15,10))\n",
    "axes[0,0].imshow(img, cmap=\"gray\")\n",
    "axes[0,0].set_title(\"Original\")\n",
    "axes[1,0].hist(img.ravel(), bins=255);\n",
    "axes[0,1].imshow(img2, cmap=\"gray\")\n",
    "axes[0,1].set_title(\"Darkened\")\n",
    "axes[1,1].hist(img2.ravel(), bins=255);\n",
    "axes[0,2].imshow(img3, cmap=\"gray\")\n",
    "axes[0,2].set_title(\"Manual Histogram Equalization\")\n",
    "axes[1,2].hist(img3.ravel(), bins=255);\n",
    "axes[0,3].imshow(img_eq, cmap=\"gray\")\n",
    "axes[0,3].set_title(\"sklearn Histogram Equalization\")\n",
    "axes[1,3].hist(img_eq.ravel(), bins=255);\n",
    "plt.tight_layout()"
   ]
  },
  {
   "cell_type": "markdown",
   "metadata": {},
   "source": [
    "## Part 2\n",
    "\n",
    "Implement a median filter. Add different levels and types of noise to an image and experiment with different sizes of support for the median filter. As before, compare your implementation with Matlab’s.\n",
    "    "
   ]
  },
  {
   "cell_type": "code",
   "execution_count": null,
   "metadata": {
    "collapsed": true
   },
   "outputs": [],
   "source": [
    "def add_noise(img, delta_max, delta_prob):\n",
    "    noise = np.random.randint(-delta_max,delta_max+1,size=img.shape)\n",
    "    mask = np.random.rand(img.shape[0], img.shape[1])\n",
    "    noise = noise * (mask < delta_prob) # keeps noise with prob < delta_prob\n",
    "    im_noise = img + noise\n",
    "    return np.clip(im_noise,0,255)\n",
    "\n",
    "def add_salt_pepper(img, prob):\n",
    "    noisy_image = img.copy()\n",
    "    noise = np.random.random(img.shape)\n",
    "    noisy_image[noise > (1-prob/2)] = 255\n",
    "    noisy_image[noise < prob/2] = 0\n",
    "    return noisy_image"
   ]
  },
  {
   "cell_type": "code",
   "execution_count": null,
   "metadata": {
    "collapsed": false
   },
   "outputs": [],
   "source": [
    "img4 = np.zeros_like(img)\n",
    "rows = img4.shape[0]\n",
    "cols = img4.shape[1]\n",
    "\n",
    "# img5 = add_noise(img, 100, 0.95)\n",
    "img5 = add_salt_pepper(img, 0.01)\n",
    "win = 3 # odd number only\n",
    "offset = np.floor(win/2).astype(int)\n",
    "# print(offset)\n",
    "\n",
    "for r in range(offset, rows-offset):\n",
    "    for c in range(offset, cols-offset):\n",
    "        neighbors = img5[(r-offset):(r+offset+1), (c-offset):(c+offset+1)].ravel()\n",
    "        # print(neighbors)\n",
    "        median_val = np.sort(neighbors)[np.ceil(win**2/2.0).astype(int)]\n",
    "        img4[r,c] = median_val\n",
    "        \n",
    "fig, axes = plt.subplots(nrows=1, ncols=3, figsize=(15,10))\n",
    "axes[0].imshow(img, cmap=\"gray\")\n",
    "axes[0].set_title(\"Original\")\n",
    "axes[1].imshow(img5, cmap=\"gray\")\n",
    "axes[1].set_title(\"Noisy Image\");\n",
    "axes[2].imshow(img4, cmap=\"gray\")\n",
    "axes[2].set_title(\"manual Median Filtered\");"
   ]
  },
  {
   "cell_type": "code",
   "execution_count": null,
   "metadata": {
    "collapsed": false
   },
   "outputs": [],
   "source": [
    "from skimage.filters.rank import median\n",
    "from skimage.morphology import disk\n",
    "\n",
    "img6 = median(img4, disk(1))\n",
    "\n",
    "fig, axes = plt.subplots(nrows=1, ncols=3, figsize=(15,10))\n",
    "axes[0].imshow(img, cmap=\"gray\")\n",
    "axes[0].set_title(\"Original\")\n",
    "axes[1].imshow(img5, cmap=\"gray\")\n",
    "axes[1].set_title(\"Noisy Image\");\n",
    "axes[2].imshow(img6, cmap=\"gray\")\n",
    "axes[2].set_title(\"sklearn Median Filtered\");\n"
   ]
  },
  {
   "cell_type": "code",
   "execution_count": null,
   "metadata": {
    "collapsed": false
   },
   "outputs": [],
   "source": [
    "fig, ax = plt.subplots(nrows=1, ncols=1, figsize=(10,10))\n",
    "ax.imshow(img5-img4, cmap=\"gray\")\n",
    "ax.set_title(\"sklearn - manual\");"
   ]
  },
  {
   "cell_type": "markdown",
   "metadata": {},
   "source": [
    "## Part 3\n",
    "\n",
    "Implement the non-local means algorithm. Try different window sizes. Add different levels of noise and see the influence of it in the need for larger or smaller neighborhoods. (Such block operations are easy when using Matlab, see for example the function at http://www.mathworks.com/help/images/ref/blockproc.html). Compare your results with those available in IPOL as demonstrated in the video lectures. http://www.ipol.im/pub/art/2011/bcm_nlm/\n",
    "    "
   ]
  },
  {
   "cell_type": "code",
   "execution_count": null,
   "metadata": {
    "collapsed": false
   },
   "outputs": [],
   "source": []
  },
  {
   "cell_type": "code",
   "execution_count": null,
   "metadata": {
    "collapsed": false
   },
   "outputs": [],
   "source": []
  },
  {
   "cell_type": "code",
   "execution_count": null,
   "metadata": {
    "collapsed": true
   },
   "outputs": [],
   "source": [
    "def nonlocal_avg(img, block, win, rmse_threshold):\n",
    "    pix_new = 0\n",
    "    offset = np.floor(win/2).astype(int)\n",
    "    count = 0\n",
    "    sum = 0\n",
    "    rmse_list = []\n",
    "    \n",
    "    for r in range(offset, rows-offset):\n",
    "        for c in range(offset, cols-offset):\n",
    "            blk = img[(r-offset):(r+offset+1),(c-offset):(c+offset+1)]\n",
    "            # print(r,c,block.ravel(),blk.ravel())\n",
    "            sse = np.sum((block.ravel() - blk.ravel())**2)\n",
    "            rmse = np.sqrt(sse/win**2)\n",
    "            rmse_list.append(rmse)\n",
    "            if rmse < rmse_threshold:\n",
    "                sum = sum + img[r,c]\n",
    "                count = count + 1\n",
    "    \n",
    "    pix_new = int(sum/float(count))\n",
    "    # print(\"rmse mean, sd, min, max: \", np.mean(rmse_list), np.std(rmse_list), np.min(rmse_list), np.max(rmse_list))\n",
    "    return pix_new"
   ]
  },
  {
   "cell_type": "code",
   "execution_count": null,
   "metadata": {
    "collapsed": true
   },
   "outputs": [],
   "source": [
    "def nonlocal_pix_avg(img_blocks, block_blocks, rmse_threshold):\n",
    "    pix_new = 0\n",
    "    center_pix = int(img_blocks.shape[2]/2) + 1\n",
    "    \n",
    "    se = (img_blocks - block_blocks)**2\n",
    "    sse = np.sum(np.sum(se, axis=2), axis=1)\n",
    "    mse = sse/(se.shape[1]*se.shape[2])\n",
    "    rmse = np.sqrt(mse)\n",
    "    \n",
    "    # print(\"rmse mean, sd, min, max: \", np.mean(rmse), np.std(rmse), np.min(rmse), np.max(rmse))\n",
    "\n",
    "    mask = rmse < rmse_threshold\n",
    "    \n",
    "    pix_new = np.mean(img_blocks[mask, center_pix, center_pix]).astype(int)\n",
    "\n",
    "    return pix_new\n",
    "\n",
    "def img_as_block_array(img, win):\n",
    "    rows = img.shape[0]\n",
    "    cols = img.shape[1]\n",
    "    img_blocks = np.zeros(((rows-win+1)*(cols-win+1),win,win))\n",
    "    offset = np.floor(win/2).astype(int)\n",
    "    \n",
    "    idx = 0\n",
    "    for r in range(offset, rows-offset):\n",
    "        for c in range(offset, cols-offset):\n",
    "            img_blocks[idx,:,:] = img[(r-offset):(r+offset+1),(c-offset):(c+offset+1)]\n",
    "            idx=idx+1\n",
    "            \n",
    "    return img_blocks\n",
    "\n",
    "def block_as_block_array(block, img_blocks):\n",
    "    block_blocks = np.zeros_like(img_blocks)\n",
    "    rows_blocks = block_blocks.shape[1]\n",
    "    cols_blocks = block_blocks.shape[2]\n",
    "        \n",
    "    for rb in range(rows_blocks):\n",
    "        for cb in range(cols_blocks):\n",
    "            block_blocks[:,rb,cb] = block[rb,cb]\n",
    "\n",
    "    return block_blocks\n",
    "\n",
    "def random_sample_img_blocks(img_blocks, n_blocks):\n",
    "    n2 = img_blocks.shape[0]\n",
    "    if n2 <= n_blocks:\n",
    "        return img_blocks\n",
    "    else:\n",
    "        n = np.random.randint(0, n2, n_blocks) # sampling with replacement\n",
    "        return img_blocks[n,:,:]\n",
    "\n",
    "def nonlocal_avg(img, win, rmse_threshold, n_blocks):\n",
    "    img_avg = np.zeros_like(img)\n",
    "    rows = img_avg.shape[0]\n",
    "    cols = img_avg.shape[1]\n",
    "    offset = np.floor(win/2).astype(int)\n",
    "\n",
    "    img_blocks = img_as_block_array(img, win)\n",
    "\n",
    "    for r in range(offset, rows-offset):\n",
    "        # sys.stdout.write(str(r)+\", \") \n",
    "\n",
    "        for c in range(offset, cols-offset):\n",
    "            block = img[(r-offset):(r+offset+1),(c-offset):(c+offset+1)]\n",
    "        \n",
    "            img_blocks_subset = random_sample_img_blocks(img_blocks, n_blocks)\n",
    "            img_blocks_subset[0,:,:] = block # Make sure the target block is included.\n",
    "        \n",
    "            block_blocks = block_as_block_array(block, img_blocks_subset)\n",
    "\n",
    "            img_avg[r,c] = nonlocal_pix_avg(img_blocks_subset, block_blocks, rmse_threshold)\n",
    "    return img_avg"
   ]
  },
  {
   "cell_type": "code",
   "execution_count": null,
   "metadata": {
    "collapsed": false
   },
   "outputs": [],
   "source": [
    "import sys\n",
    "import random\n",
    "import time\n",
    "\n",
    "img_original = io.imread(\"../lena512color.tiff\")\n",
    "img_original = img_original[:,:,1] # take the green channel as intensity\n",
    "# img_original = img_original[200:300, 200:400]\n",
    "img_noisy = add_salt_pepper(img_original, 0.01)\n",
    "win = 9\n",
    "%timeit img_blocks = img_as_block_array(img_noisy, win)\n",
    "print(\"img_blocks.shape\", img_blocks.shape)\n",
    "\n",
    "n_blocks = 500\n",
    "%timeit img_blocks_subset = random_sample_img_blocks(img_blocks, n_blocks)\n",
    "print(\"img_blocks_subset.shape\", img_blocks_subset.shape)\n",
    "\n",
    "block = img_noisy[0:win,0:win]\n",
    "%timeit block_blocks = block_as_block_array(block, img_blocks_subset)\n",
    "print(\"block_blocks.shape\", block_blocks.shape)\n",
    "\n",
    "rmse_threshold = 30\n",
    "%timeit pix = nonlocal_pix_avg(img_blocks_subset, block_blocks, rmse_threshold)\n",
    "print(\"pix\", pix)\n",
    "\n"
   ]
  },
  {
   "cell_type": "code",
   "execution_count": null,
   "metadata": {
    "collapsed": false
   },
   "outputs": [],
   "source": [
    "%timeit idxes = np.arange(img_blocks.shape[0]).astype(int)\n",
    "print(\"len(idxes)\", len(idxes))\n",
    "\n",
    "n = n_blocks\n",
    "%timeit n = np.min([n_blocks, len(idxes)])\n",
    "print(\"n\", n)\n",
    "\n",
    "\n",
    "# print(\"len(idxes_subset)\", len(idxes_subset))"
   ]
  },
  {
   "cell_type": "code",
   "execution_count": null,
   "metadata": {
    "collapsed": false
   },
   "outputs": [],
   "source": [
    "%timeit idxes_subset = random.sample(idxes, n)"
   ]
  },
  {
   "cell_type": "code",
   "execution_count": null,
   "metadata": {
    "collapsed": false
   },
   "outputs": [],
   "source": [
    "%timeit i = np.random.randint(0, img_blocks.shape[0], n)"
   ]
  },
  {
   "cell_type": "code",
   "execution_count": null,
   "metadata": {
    "collapsed": false
   },
   "outputs": [],
   "source": [
    "%timeit img_blocks_subset = img_blocks[idxes_subset,:,:]"
   ]
  },
  {
   "cell_type": "code",
   "execution_count": null,
   "metadata": {
    "collapsed": false
   },
   "outputs": [],
   "source": [
    "i = np.random.randint(0, img_blocks.shape[0], n)\n",
    "%timeit img_blocks_subset = img_blocks[i,:,:]"
   ]
  },
  {
   "cell_type": "code",
   "execution_count": null,
   "metadata": {
    "collapsed": false
   },
   "outputs": [],
   "source": [
    "range(30,70,2)"
   ]
  },
  {
   "cell_type": "code",
   "execution_count": null,
   "metadata": {
    "collapsed": false,
    "scrolled": false
   },
   "outputs": [],
   "source": [
    "import sys\n",
    "import random\n",
    "import time\n",
    "\n",
    "img_original = io.imread(\"../lena512color.tiff\")\n",
    "img_original = img_original[:,:,1] # take the green channel as intensity\n",
    "img_original = img_original[10:500, 10:500]\n",
    "\n",
    "img_noisy = add_salt_pepper(img_original, 0.01)\n",
    "# img2 = add_noise(img, delta_max=50, delta_prob=0.20)\n",
    "\n",
    "win = 5 # odd number only\n",
    "rmse_threshold = 30\n",
    "n_blocks = 50\n",
    "\n",
    "imgs_reconstructed = []\n",
    "params = []\n",
    "\n",
    "for win in [5]:\n",
    "    for rmse_threshold in range(30,71,2):\n",
    "        for n_blocks in [400, 800, 1600]:\n",
    "            t = time.strftime(\"%Y%m%d_%H%M\")\n",
    "            print(win, rmse_threshold, n_blocks, t)\n",
    "            params.append([win, rmse_threshold, n_blocks])\n",
    "            imgs_reconstructed.append(nonlocal_avg(img_noisy, win, rmse_threshold, n_blocks))\n",
    "\n",
    "n_col=3\n",
    "n_row = np.ceil(len(params)/float(n_col)).astype(int)\n",
    "fig, axes = plt.subplots(nrows=n_row, ncols=n_col, figsize=(15,n_row*5))\n",
    "\n",
    "i = 0\n",
    "for r in range(n_row):\n",
    "    for c in range(n_col):\n",
    "        if i < len(params):\n",
    "            axes[r,c].imshow(imgs_reconstructed[i], cmap=\"gray\")\n",
    "            axes[r,c].set_title(\"win, thresh, n:\" + str(params[i]))\n",
    "        i = i + 1\n",
    "plt.tight_layout()\n",
    "filename = \"nonlocal_average_\" + time.strftime(\"%Y%m%d_%H%M\") + \".png\"\n",
    "fig.savefig(filename, bbox_inches='tight')"
   ]
  },
  {
   "cell_type": "code",
   "execution_count": null,
   "metadata": {
    "collapsed": false
   },
   "outputs": [],
   "source": [
    "import sys\n",
    "import random\n",
    "import time\n",
    "\n",
    "img_original = io.imread(\"../lena512color.tiff\")\n",
    "img_original = img_original[:,:,1] # take the green channel as intensity\n",
    "img_original = img_original[10:500, 10:500]\n",
    "\n",
    "img_noisy = add_salt_pepper(img_original, 0.01)\n",
    "# img2 = add_noise(img, delta_max=50, delta_prob=0.20)\n",
    "\n",
    "win = 5 # odd number only\n",
    "rmse_threshold = 30\n",
    "n_blocks = 50\n",
    "\n",
    "img_reconstructed = nonlocal_avg(img_noisy, win=5, rmse_threshold=50, n_blocks=1600)\n",
    "\n",
    "fig, axes = plt.subplots(nrows=1, ncols=3, figsize=(15,15))\n",
    "axes[0].imshow(img_original, cmap=\"gray\")\n",
    "axes[0].set_title(\"Original\")\n",
    "axes[1].imshow(img_noisy, cmap=\"gray\")\n",
    "axes[1].set_title(\"Noisy\")\n",
    "axes[2].imshow(img_reconstructed, cmap=\"gray\")\n",
    "axes[2].set_title(\"Reconstructed, win=5, rmse=50, n=1600\")\n",
    "\n",
    "plt.tight_layout()\n",
    "\n",
    "filename = \"nonlocal_average_\" + time.strftime(\"%Y%m%d_%H%M\") + \".png\"\n",
    "fig.savefig(filename, bbox_inches='tight')"
   ]
  },
  {
   "cell_type": "code",
   "execution_count": null,
   "metadata": {
    "collapsed": false
   },
   "outputs": [],
   "source": [
    "rmses = []\n",
    "\n",
    "i = 0\n",
    "for im in imgs_reconstructed:\n",
    "    rows = img_original.shape[0]\n",
    "    cols = img_original.shape[1]\n",
    "    offset = 10\n",
    "    se = (img_original[offset:-offset,offset:-offset] - im[offset:-offset,offset:-offset])**2\n",
    "    mse = np.mean(se)\n",
    "    rmses.append(np.sqrt(mse))\n",
    "\n",
    "            "
   ]
  },
  {
   "cell_type": "code",
   "execution_count": null,
   "metadata": {
    "collapsed": false
   },
   "outputs": [],
   "source": [
    "idx = np.where(rmses == np.min(rmses))[0][0]\n",
    "print(idx, rmses[idx], params[idx])"
   ]
  },
  {
   "cell_type": "markdown",
   "metadata": {},
   "source": [
    "## Part 4\n",
    "\n",
    "Consider an image and add to it random noise. Repeat this N times, for different values of N, and add the resulting images. What do you observe?\n",
    "    "
   ]
  },
  {
   "cell_type": "code",
   "execution_count": null,
   "metadata": {
    "collapsed": false
   },
   "outputs": [],
   "source": [
    "img = io.imread(\"../lena512color.tiff\")\n",
    "img = img[:,:,1] # take the green channel as intensity\n",
    "\n",
    "N = 16384\n",
    "# N = 512\n",
    "prob = 0.75\n",
    "# prob = 0.001\n",
    "img2 = np.zeros(img.shape, dtype=np.uint64)\n",
    "\n",
    "for im in range(N):\n",
    "    img2 = img2 + add_salt_pepper(img, prob).astype(np.uint64)\n",
    "    if im % 500 == 0:\n",
    "        sys.stdout.write(str(im)+\", \") \n",
    "\n",
    "mn = np.min(img2)\n",
    "mx = np.max(img2)\n",
    "img2 = img_as_ubyte((img2.astype(float) - mn)/float(mx-mn))\n",
    "# img2 = (img2/float(N)).astype(np.uint8)\n",
    "print(np.min(img), np.max(img))\n",
    "print(np.min(img2), np.max(img2))\n",
    "# print(np.min(img-img2), np.max(np.abs(img-img2)))\n",
    "\n",
    "delta = img_as_ubyte(np.abs(img_as_float(img) - img_as_float(img2)))\n",
    "print(np.min(delta), np.max(delta))\n",
    "\n",
    "fig, axes = plt.subplots(nrows=1, ncols=3, figsize=(15,10))\n",
    "axes[0].imshow(img, cmap=\"gray\")\n",
    "axes[0].set_title(\"Original\")\n",
    "axes[1].imshow(add_salt_pepper(img, prob), cmap=\"gray\")\n",
    "axes[1].set_title(\"Typical Noisy Image\")\n",
    "axes[2].imshow(img2, cmap=\"gray\")\n",
    "axes[2].set_title(\"Reconstructed\");\n",
    "\n",
    "fig.savefig('add_noisy_images.png', bbox_inches='tight')"
   ]
  },
  {
   "cell_type": "code",
   "execution_count": null,
   "metadata": {
    "collapsed": false
   },
   "outputs": [],
   "source": []
  },
  {
   "cell_type": "markdown",
   "metadata": {},
   "source": [
    "Implement the basic color edge detector. What happens when the 3 channels are equal?\n",
    "    "
   ]
  },
  {
   "cell_type": "markdown",
   "metadata": {},
   "source": [
    "Take a video and do frame-by-frame histogram equalization and run the resulting video. Now consider a group of frames as a large image and do histogram equalization for all of them at once. What looks better? See this example on how to read and handle videos in Matlab"
   ]
  },
  {
   "cell_type": "code",
   "execution_count": null,
   "metadata": {
    "collapsed": true
   },
   "outputs": [],
   "source": []
  }
 ],
 "metadata": {
  "kernelspec": {
   "display_name": "Python 2",
   "language": "python",
   "name": "python2"
  },
  "language_info": {
   "codemirror_mode": {
    "name": "ipython",
    "version": 2
   },
   "file_extension": ".py",
   "mimetype": "text/x-python",
   "name": "python",
   "nbconvert_exporter": "python",
   "pygments_lexer": "ipython2",
   "version": "2.7.11"
  }
 },
 "nbformat": 4,
 "nbformat_minor": 0
}
