{
 "cells": [
  {
   "cell_type": "code",
   "execution_count": null,
   "metadata": {
    "collapsed": true
   },
   "outputs": [],
   "source": [
    "from __future__ import division, print_function\n",
    "\n",
    "import skimage\n",
    "import numpy as np\n",
    "from matplotlib import pyplot as plt\n",
    "\n",
    "from scipy import fftpack\n",
    "\n",
    "%matplotlib inline"
   ]
  },
  {
   "cell_type": "code",
   "execution_count": null,
   "metadata": {
    "collapsed": false
   },
   "outputs": [],
   "source": [
    "random_image = np.random.random([500, 500])\n",
    "\n",
    "plt.imshow(random_image, cmap='gray', interpolation='nearest');"
   ]
  },
  {
   "cell_type": "code",
   "execution_count": null,
   "metadata": {
    "collapsed": false
   },
   "outputs": [],
   "source": [
    "from skimage import data\n",
    "cat = data.chelsea()\n",
    "print(\"Shape:\", cat.shape)\n",
    "print(\"Values min/max:\", cat.min(), cat.max())\n",
    "\n",
    "plt.imshow(cat, interpolation='nearest');"
   ]
  },
  {
   "cell_type": "code",
   "execution_count": null,
   "metadata": {
    "collapsed": false
   },
   "outputs": [],
   "source": [
    "linear0 = np.linspace(0, 1, 2500).reshape((50, 50))\n",
    "linear1 = np.linspace(0, 255, 2500).reshape((50, 50)).astype(np.uint8)\n",
    "\n",
    "print(\"Linear0:\", linear0.dtype, linear0.min(), linear0.max())\n",
    "print(\"Linear1:\", linear1.dtype, linear1.min(), linear1.max())\n",
    "\n",
    "fig, (ax0, ax1) = plt.subplots(1, 2)\n",
    "ax0.imshow(linear0, cmap='gray')\n",
    "ax1.imshow(linear1, cmap='gray');"
   ]
  },
  {
   "cell_type": "code",
   "execution_count": null,
   "metadata": {
    "collapsed": false
   },
   "outputs": [],
   "source": [
    "from skimage import img_as_float, img_as_ubyte\n",
    "\n",
    "image = data.chelsea()\n",
    "\n",
    "image_float = img_as_float(image)\n",
    "image_ubyte = img_as_ubyte(image)\n",
    "\n",
    "print(\"type, min, max:\", image_float.dtype, image_float.min(), image_float.max())\n",
    "print(\"type, min, max:\", image_ubyte.dtype, image_ubyte.min(), image_ubyte.max())\n",
    "\n",
    "print(\"231/255 =\", 231/255.)\n",
    "\n",
    "fig, (ax0, ax1) = plt.subplots(1, 2)\n",
    "ax0.imshow(image_float)\n",
    "ax1.imshow(image_ubyte);"
   ]
  },
  {
   "cell_type": "code",
   "execution_count": null,
   "metadata": {
    "collapsed": false
   },
   "outputs": [],
   "source": [
    "fig, axes = plt.subplots(nrows=2, ncols=2, figsize=(10, 5))\n",
    "R = image[:,:,0]\n",
    "axes[0, 0].imshow(R, cmap='jet')\n",
    "axes[0, 1].imshow(R, cmap='viridis')\n",
    "axes[1, 0].imshow(R, cmap='magma')\n",
    "axes[1, 1].imshow(R, cmap='gray');"
   ]
  },
  {
   "cell_type": "code",
   "execution_count": null,
   "metadata": {
    "collapsed": false
   },
   "outputs": [],
   "source": [
    "fig, axes = plt.subplots(ncols=3, figsize=(10, 10))\n",
    "R = image.copy()\n",
    "G = image.copy()\n",
    "B = image.copy()\n",
    "\n",
    "R[:,:,(1,2)] = 0\n",
    "G[:,:,(0,2)] = 0\n",
    "B[:,:,(0,1)] = 0\n",
    "axes[0].imshow(R)\n",
    "axes[1].imshow(G)\n",
    "axes[2].imshow(B)\n"
   ]
  },
  {
   "cell_type": "code",
   "execution_count": null,
   "metadata": {
    "collapsed": false
   },
   "outputs": [],
   "source": [
    "pwd"
   ]
  },
  {
   "cell_type": "code",
   "execution_count": null,
   "metadata": {
    "collapsed": false
   },
   "outputs": [],
   "source": [
    "from skimage import io\n",
    "\n",
    "image = io.imread('../skimage/skimage-tutorials/images/balloon.jpg')\n",
    "\n",
    "print(type(image))\n",
    "plt.imshow(image);"
   ]
  },
  {
   "cell_type": "code",
   "execution_count": null,
   "metadata": {
    "collapsed": false
   },
   "outputs": [],
   "source": [
    "ic = io.imread_collection('../skimage/skimage-tutorials/images/*.png')\n",
    "\n",
    "print(type(ic), '\\n\\n', ic)\n",
    "\n",
    "f, axes = plt.subplots(nrows=1, ncols=len(ic), figsize=(15, 10))\n",
    "\n",
    "for i, image in enumerate(ic):\n",
    "    axes[i].imshow(image, cmap='gray')\n",
    "    axes[i].axis('off')"
   ]
  },
  {
   "cell_type": "code",
   "execution_count": null,
   "metadata": {
    "collapsed": false
   },
   "outputs": [],
   "source": [
    "img = io.imread('bossier.jpg')\n",
    "img = img_as_float(img)\n",
    "print(img.shape, type(img))"
   ]
  },
  {
   "cell_type": "code",
   "execution_count": null,
   "metadata": {
    "collapsed": false
   },
   "outputs": [],
   "source": [
    "np.array(range(16)).reshape(4,4)"
   ]
  },
  {
   "cell_type": "code",
   "execution_count": null,
   "metadata": {
    "collapsed": false
   },
   "outputs": [],
   "source": [
    "def pad_image(img):\n",
    "    ro = img.shape[0]\n",
    "    co = img.shape[1]\n",
    "    r = ro + ro % 8\n",
    "    c = co + co % 8\n",
    "    if len(img.shape) == 3:\n",
    "        ch = img.shape[2]\n",
    "        img2 = np.zeros(r*c*ch).reshape(r,c,ch)\n",
    "        img2[:ro,:co,:] = img[:ro,:co,:]\n",
    "    else: # single channel\n",
    "        img2 = np.zeros(r*c).reshape(r,c)\n",
    "        img2[:ro,:co] = img[:ro,:co]\n",
    "    return img2"
   ]
  },
  {
   "cell_type": "code",
   "execution_count": null,
   "metadata": {
    "collapsed": false
   },
   "outputs": [],
   "source": [
    "img = pad_image(img)\n",
    "print(img.shape, type(img))"
   ]
  },
  {
   "cell_type": "code",
   "execution_count": null,
   "metadata": {
    "collapsed": false
   },
   "outputs": [],
   "source": [
    "plt.imshow(img);"
   ]
  },
  {
   "cell_type": "code",
   "execution_count": null,
   "metadata": {
    "collapsed": true
   },
   "outputs": [],
   "source": [
    "def get_2D_dct(img):\n",
    "    \"\"\" Get 2D Cosine Transform of Image\n",
    "    \"\"\"\n",
    "    d = fftpack.dct(fftpack.dct(img.T, norm='ortho').T, norm='ortho')\n",
    "    return d # d.astype(int)\n",
    "\n",
    "def get_2D_idct(coefficients):\n",
    "    \"\"\" Get 2D Inverse Cosine Transform of Image\n",
    "    \"\"\"\n",
    "    id = fftpack.idct(fftpack.idct(coefficients.T, norm='ortho').T, norm='ortho')\n",
    "    return id # id.astype(int)\n",
    "\n",
    "def get_8x8_block(img, r_start, c_start, channel):\n",
    "    \"\"\" Get an 8x8 block from the image\n",
    "    \"\"\"\n",
    "    return img[r_start:r_start+8, c_start:c_start+8, channel]\n",
    "\n",
    "def put_8x8_block(img, block, r_start, c_start, channel):\n",
    "    img_new = img\n",
    "    img_new[r_start:r_start+8, c_start:c_start+8, channel] = block\n",
    "    return img_new\n",
    "\n",
    "def quantize(dct_block, factor):\n",
    "    \"\"\" Get a quantized version of a matrix\n",
    "    \"\"\"\n",
    "    f = float(factor)\n",
    "    q = np.floor(dct_block/f)*f\n",
    "    return q # q.astype(int)\n",
    "\n",
    "def compress(img, n_coeff):\n",
    "    img_reconstructed = np.zeros_like(img)\n",
    "\n",
    "    for start_row in np.arange(0,img.shape[0],8):\n",
    "        for start_col in np.arange(0,img.shape[1],8):\n",
    "            for channel in range(0,3):\n",
    "                block = get_8x8_block(img, start_row, start_col, channel)\n",
    "                block_dct = get_2D_dct(block)\n",
    "                # block_dct_quantized = quantize(block_dct, factor)\n",
    "                block_dct_quantized = get_n_max_vals(block_dct, n_coeff)\n",
    "                block_reconstructed = get_2D_idct(block_dct_quantized)\n",
    "                img_reconstructed = put_8x8_block(img_reconstructed, block_reconstructed, start_row, start_col, channel)\n",
    "    return img_reconstructed\n",
    "\n",
    "def get_n_max_vals(blk, n):\n",
    "    # Convert it into a 1D array and take absolute value\n",
    "    a_1d = np.abs(blk.flatten())\n",
    "    # Find the indices in the 1D array\n",
    "    idx_1d = a_1d.argsort()[-n:]\n",
    "    # Get min of the maxes\n",
    "    m = a_1d[idx_1d[0]]\n",
    "    \n",
    "    b = np.zeros_like(blk)\n",
    "    b[blk >= m] = blk[blk >= m] # Large positive values\n",
    "    b[blk <= -m] = blk[blk <= -m] # Large negative values\n",
    "    return b\n"
   ]
  },
  {
   "cell_type": "code",
   "execution_count": null,
   "metadata": {
    "collapsed": false
   },
   "outputs": [],
   "source": [
    "a = np.random.randint(low=0, high=10, size=10).reshape(2, 5) - 5\n",
    "a_1d = a.flatten()\n",
    "print(a_1d)\n",
    "print(a_1d.argsort())\n",
    "print(a_1d.argsort()[-3:])\n",
    "print(a)\n",
    "print(get_n_max_vals(a,3))"
   ]
  },
  {
   "cell_type": "code",
   "execution_count": null,
   "metadata": {
    "collapsed": false
   },
   "outputs": [],
   "source": [
    "img2 = img_as_ubyte(img)\n",
    "blk = get_8x8_block(img, 350, 315, 0)\n",
    "dct = get_2D_dct(blk)\n",
    "idct = get_2D_idct(dct)\n",
    "\n",
    "fig, axes = plt.subplots(ncols=3, figsize=(10, 10))\n",
    "\n",
    "axes[0].imshow(blk, cmap=\"gray\", interpolation=\"nearest\")\n",
    "axes[1].imshow(dct, cmap=\"gray\", interpolation=\"nearest\")\n",
    "axes[2].imshow(idct, cmap=\"gray\", interpolation=\"nearest\")\n"
   ]
  },
  {
   "cell_type": "code",
   "execution_count": null,
   "metadata": {
    "collapsed": false
   },
   "outputs": [],
   "source": [
    "np.round(dct, decimals=3)"
   ]
  },
  {
   "cell_type": "markdown",
   "metadata": {},
   "source": [
    "## Converting to YCbCr\n",
    "\n",
    "https://en.wikipedia.org/wiki/YCbCr\n",
    "\n",
    "JFIF usage of JPEG allows Y′CbCr where Y′, CB and CR have the full 8-bit range of 0-255:[4]\n",
    "\n",
    "$$\n",
    "    \\begin{align} Y' &=& 0 &+ (0.299 & \\cdot R'_D) &+ (0.587 & \\cdot G'_D) &+ (0.114 & \\cdot B'_D)\\\\ C_B &=& 128 & - (0.168736 & \\cdot R'_D) &- (0.331264 & \\cdot G'_D) &+ (0.5 & \\cdot B'_D)\\\\ C_R &=& 128 &+ (0.5 & \\cdot R'_D) &- (0.418688 & \\cdot G'_D) &- (0.081312 & \\cdot B'_D) \\end{align}\n",
    "$$\n",
    "\n",
    "And back:\n",
    "\n",
    "$$\n",
    "    \\begin{align} R &=& Y &&& + 1.402 & \\cdot (C_R-128) \\\\ G &=& Y & - 0.34414 & \\cdot (C_B-128)& - 0.71414 & \\cdot (C_R-128) \\\\ B &=& Y & + 1.772 & \\cdot (C_B-128)& \\end{align} \n",
    "$$"
   ]
  },
  {
   "cell_type": "markdown",
   "metadata": {},
   "source": [
    "Factor out bias terms:\n",
    "\n",
    "$$\n",
    "\\begin{align}\n",
    "R &= 1 \\times Y + 0 \\times (C_B - 128) + 1.402 \\times (C_R-128) \\\\\n",
    "R &= 1 \\times Y + 0 C_B - 0 \\times 128 + 1.402 C_R - 1.402 \\times 128 \\\\\n",
    "R &= - 1.402 \\times 128 + 1 \\times Y + 0 \\times C_B + 1.402 \\times C_R \\\\\n",
    "R &= - 179.456 + 1 \\times Y + 0 \\times C_B + 1.402 \\times C_R \\\\\n",
    "\\\\\n",
    "G &= 1 \\times Y - 0.34414 \\times (C_B - 128) - 0.71414 \\times (C_R-128) \\\\\n",
    "G &= 1 \\times Y - 0.34414 \\times C_B + 0.34414 \\times 128 - 0.71414 \\times C_R + 0.71414 \\times 128 \\\\\n",
    "G &= (0.34414 + 0.71414) \\times 128 + 1 \\times Y - 0.34414 \\times C_B  - 0.71414 \\times C_R \\\\\n",
    "G &= 135.45984 + 1 \\times Y - 0.34414 \\times C_B  - 0.71414 \\times C_R \\\\\n",
    "\\\\\n",
    "B &= 1 \\times Y + 1.772 \\times (C_B - 128) + 0 \\times (C_R-128) \\\\\n",
    "B &= 1 \\times Y + 1.772 \\times C_B - 1.772 \\times 128 + 0 \\times C_R \\\\\n",
    "B &= - 1.772 \\times 128 + 1 \\times Y + 1.772 \\times C_B + 0 \\times C_R \\\\\n",
    "B &= - 226.816 + 1 \\times Y + 1.772 \\times C_B + 0 \\times C_R \\\\\n",
    "\\end{align}\n",
    "$$\n",
    "\n"
   ]
  },
  {
   "cell_type": "code",
   "execution_count": null,
   "metadata": {
    "collapsed": false
   },
   "outputs": [],
   "source": [
    "def rgb2ycbcr(img):\n",
    "    image_float = img_as_float(image)\n",
    "    image_ubyte = img_as_ubyte(img)\n",
    "    img_new = np.zeros_like(image_ubyte)\n",
    "    CM_to_ycbcr = np.array([[0, .299, .587, .114],[128, -.168736, -.331264, .5],[128, .5, -.418688, -.081312]])\n",
    "    \n",
    "    for row in range(image_ubyte.shape[0]):\n",
    "        for col in range(image_ubyte.shape[1]):\n",
    "            pix_with_bias = np.ones(4)\n",
    "            pix_with_bias[1:4] = image_ubyte[row, col, :]\n",
    "            img_new[row, col, :] = np.dot(CM_to_ycbcr, pix_with_bias)\n",
    "    return img_as_float(img_new)\n",
    "\n",
    "def ycbcr2rgb(img):\n",
    "    img_new = np.zeros_like(img)\n",
    "    image_ubyte = img_as_ubyte(img)\n",
    "    CM_to_rgb = np.array([[-179.456, 1, 0, 1.402],[135.45984, 1, -.34414, -.71414],[-226.816, 1, 1.772, 0]])\n",
    "\n",
    "    for row in range(image_ubyte.shape[0]):\n",
    "        for col in range(image_ubyte.shape[1]):\n",
    "            pix_with_bias = np.ones(4)\n",
    "            pix_with_bias[1:4] = image_ubyte[row, col, :]\n",
    "            img_new[row, col, :] = np.dot(CM_to_rgb, pix_with_bias)\n",
    "    return img_as_float(img_new)"
   ]
  },
  {
   "cell_type": "code",
   "execution_count": null,
   "metadata": {
    "collapsed": false
   },
   "outputs": [],
   "source": [
    "(0 == 0) & (1 ==1)"
   ]
  },
  {
   "cell_type": "code",
   "execution_count": null,
   "metadata": {
    "collapsed": false
   },
   "outputs": [],
   "source": [
    "n_coeff = 64\n",
    "\n",
    "fig, axes = plt.subplots(2, 3, figsize=(15, 15))\n",
    "for r in range(0,2):\n",
    "    for c in range(0,3):\n",
    "        if (r==0) & (c==0): \n",
    "            axes[r,c].imshow(img)\n",
    "        else: \n",
    "            img_compressed = compress(img, n_coeff)\n",
    "            axes[r,c].imshow(img_compressed)\n",
    "            fname = \"b_rgb_\" + str(n_coeff) + \".jpg\"\n",
    "            io.imsave(fname, img_as_ubyte(img_compressed))\n",
    "            # mpimg.imsave(fname, img_compressed)\n",
    "        n_coeff = n_coeff/2\n"
   ]
  },
  {
   "cell_type": "code",
   "execution_count": null,
   "metadata": {
    "collapsed": false
   },
   "outputs": [],
   "source": [
    "img_ycbcr = rgb2ycbcr(img)\n",
    "img_ycbcr_compressed = compress(img_ycbcr, factor)\n",
    "img_rgb_compressed = ycbcr2rgb(img_ycbcr_compressed)\n",
    "\n",
    "imgplot = plt.imshow(img_rgb_compressed)"
   ]
  },
  {
   "cell_type": "code",
   "execution_count": null,
   "metadata": {
    "collapsed": false
   },
   "outputs": [],
   "source": [
    "\n",
    "fname = \"b_ycbcr_\" + str(factor) + \".jpg\"\n",
    "mpimg.imsave(fname, img_rgb_compressed)"
   ]
  }
 ],
 "metadata": {
  "kernelspec": {
   "display_name": "Python 2",
   "language": "python",
   "name": "python2"
  },
  "language_info": {
   "codemirror_mode": {
    "name": "ipython",
    "version": 2
   },
   "file_extension": ".py",
   "mimetype": "text/x-python",
   "name": "python",
   "nbconvert_exporter": "python",
   "pygments_lexer": "ipython2",
   "version": "2.7.11"
  }
 },
 "nbformat": 4,
 "nbformat_minor": 0
}
