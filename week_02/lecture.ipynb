{
 "cells": [
  {
   "cell_type": "markdown",
   "metadata": {},
   "source": [
    "# Week 2"
   ]
  },
  {
   "cell_type": "code",
   "execution_count": 4,
   "metadata": {
    "collapsed": false
   },
   "outputs": [
    {
     "data": {
      "text/plain": [
       "648"
      ]
     },
     "execution_count": 4,
     "metadata": {},
     "output_type": "execute_result"
    }
   ],
   "source": [
    "r = 1000 # Number of pixels per row\n",
    "c = 1000 # Number of pixels per column\n",
    "fps = 30 # Frames per second\n",
    "bpp = 24 # Number of bits per pixel\n",
    "h = 2 # Number of hours of video\n",
    "sph = 3600 # Number of seconds per hour\n",
    "bits = r * c * fps * bpp * h * sph\n",
    "gigs = bits / 8 / 1000000000\n",
    "gigs"
   ]
  },
  {
   "cell_type": "markdown",
   "metadata": {},
   "source": [
    "648 gigs is too big.  We need compression.\n",
    "\n",
    "Some images don't have many colors.  We can use fewer than 8 bits to represent them.\n",
    "\n",
    "Sometimes we have uniform rows.  We can do run length encoding.\n",
    "\n",
    "-- Instead of storing {128 128 128 ... 128}\n",
    "\n",
    "-- We can store x:{128}\n",
    "\n",
    "Irrelevant information in images.  Say a uniform image."
   ]
  },
  {
   "cell_type": "markdown",
   "metadata": {},
   "source": [
    "Compression is standardized.  Good for compatibility.  JPEG and MPEG are examples.\n",
    "\n",
    "See DIP3E_Chapter08_Art.ppt for slides."
   ]
  },
  {
   "cell_type": "markdown",
   "metadata": {
    "collapsed": true
   },
   "source": [
    "## Expected average bits/symbol\n",
    "\n",
    "Called Entropy.  Entropy for Huffman symbol, $s$, coding:\n",
    "\n",
    "$$\n",
    "H = - \\sum_{s} p(s) log_2 p(s)\n",
    "$$\n",
    "\n",
    "Probability that the symbol occurs: $p(s)$\n",
    "\n",
    "Length of the symbol's code: $log_2 p(s)$"
   ]
  },
  {
   "cell_type": "code",
   "execution_count": 19,
   "metadata": {
    "collapsed": false
   },
   "outputs": [
    {
     "data": {
      "text/plain": [
       "1.4857848286465822"
      ]
     },
     "execution_count": 19,
     "metadata": {},
     "output_type": "execute_result"
    }
   ],
   "source": [
    "import numpy as np\n",
    "def entropy(prob_list):\n",
    "    tot = 0\n",
    "    for p in prob_list:\n",
    "        tot = tot - p * np.log(p) # base 2 log\n",
    "    return tot\n",
    "\n",
    "prob_list = [.4,.3,.1,.1,.06,.04]\n",
    "entropy(prob_list)"
   ]
  },
  {
   "cell_type": "code",
   "execution_count": 9,
   "metadata": {
    "collapsed": false
   },
   "outputs": [
    {
     "data": {
      "text/plain": [
       "1.1532045320902202"
      ]
     },
     "execution_count": 9,
     "metadata": {},
     "output_type": "execute_result"
    }
   ],
   "source": [
    "entropy([.25,.47,.25,.03])"
   ]
  },
  {
   "cell_type": "code",
   "execution_count": 17,
   "metadata": {
    "collapsed": false
   },
   "outputs": [
    {
     "data": {
      "text/plain": [
       "-0.916290731874155"
      ]
     },
     "execution_count": 17,
     "metadata": {},
     "output_type": "execute_result"
    }
   ],
   "source": [
    "import numpy as np\n",
    "np.log(np.e)\n",
    "np.log(.4)"
   ]
  },
  {
   "cell_type": "markdown",
   "metadata": {},
   "source": [
    "JPEG encodes 8x8 non-overlapping blocks of the image.\n",
    "\n",
    "For RGB images, JPEG converts to Y Cb Cr.  This does a better job of taking advantage of correlations between the colors in the original image.\n",
    "\n",
    "Y is the luminance channel.  Cb and Cr are the color channels.\n",
    "\n",
    "Conversion is done with a 3x3 matrix:\n",
    "\n",
    "$$\n",
    "\\left [ \\begin{array}{c} Y \\\\ C_b \\\\ C_r \\end{array} \\right ] = \n",
    "\\left [ \\begin{array}{c} a_1 a_2 a_3 \\\\ a_1 a_2 a_3 \\\\ a_1 a_2 a_3 \\end{array} \\right ]\n",
    "\\left [ \\begin{array}{c} R \\\\ G \\\\ B \\end{array} \\right ]\n",
    "$$"
   ]
  },
  {
   "cell_type": "markdown",
   "metadata": {},
   "source": [
    "## Forward Transform\n",
    "\n",
    "We want to transform Y Cb Cr to reduce the storage space required.\n",
    "\n",
    "The Mean Square Error is used for computing how well the transform corresponds to the original image.  $N$ is the number of pixels, $\\hat{F}$ is the reconstructed pixel value, $F$ is the original pixel value.  Now for each pixel, p:\n",
    "\n",
    "$$MSE = \\frac{1}{N}\\sum_p {(\\hat{F} - F)^2}$$\n",
    "\n",
    "$$RMSE = \\sqrt{MSE}$$"
   ]
  },
  {
   "cell_type": "markdown",
   "metadata": {},
   "source": [
    "The optimum transform is the Karunen-Loeve, KLT.  Instead of using all 64 bits of the transformed image block, we can use, say, just 1 or 3 of them.\n",
    "\n",
    "Unfortunately, the KLT is image dependent.  The Discrete Cosine Transform DCT is image independent.  It is the one used in practice.\n",
    "\n",
    "A transform looks like this:\n",
    "\n",
    "$$\n",
    "T(u,v) = \\sum_x^{n-1} \\sum_y^{n-1} f(x,y) r(x,y,u,v)\n",
    "$$\n",
    "\n",
    "The inverse transform is:\n",
    "\n",
    "$$\n",
    "f(x,y) = \\sum_u^{n-1} \\sum_v^{n-1} T(u,v) s(x,y,u,v)\n",
    "$$\n"
   ]
  },
  {
   "cell_type": "markdown",
   "metadata": {},
   "source": [
    "For the DCT, \n",
    "\n",
    "$$r(x,y,u,v) = s(x,y,u,v)$$\n",
    "\n",
    "And,\n",
    "\n",
    "$$\n",
    "r(x,y,u,v) = \\alpha_u \\alpha_v \\cos \\left [ \\frac{(2x+1)u\\pi}{2n} \\right ] \\cos \\left [ \\frac{(2y+1)v\\pi}{2n} \\right ]\n",
    "$$\n",
    "\n",
    "Where $\\alpha_u$ and $\\alpha_v$ are normalization coefficients.\n",
    "\n",
    "$$\n",
    "\\alpha_u =\n",
    "\\left\\{ \\begin{array}{rcl}\n",
    "\\sqrt{1/n} & \\mbox{for} & u=0 \\\\ \n",
    "\\sqrt{2/n} & \\mbox{for} & u \\ne 0 \\\\ \n",
    "\\end{array}\\right.\n",
    "$$"
   ]
  }
 ],
 "metadata": {
  "kernelspec": {
   "display_name": "Python 2",
   "language": "python",
   "name": "python2"
  },
  "language_info": {
   "codemirror_mode": {
    "name": "ipython",
    "version": 2
   },
   "file_extension": ".py",
   "mimetype": "text/x-python",
   "name": "python",
   "nbconvert_exporter": "python",
   "pygments_lexer": "ipython2",
   "version": "2.7.11"
  }
 },
 "nbformat": 4,
 "nbformat_minor": 0
}
